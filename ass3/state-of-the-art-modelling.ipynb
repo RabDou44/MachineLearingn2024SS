{
 "cells": [
  {
   "metadata": {
    "ExecuteTime": {
     "end_time": "2025-02-14T11:20:45.981192Z",
     "start_time": "2025-02-14T11:20:45.468589Z"
    }
   },
   "cell_type": "code",
   "source": [
    "import pandas as pd\n",
    "import pickle\n",
    "from sklearn.model_selection import train_test_split\n",
    "\n",
    "# Load dataset\n",
    "PATH = \"../data_processed/breast-cancer-diagnostic.shuf.lrn.csv\"\n",
    "data = pd.read_csv(PATH)\n",
    "feature_structure_file =  open('../data_processed/breast-cancer_column_types.pkl', 'rb')\n",
    "feature_structure = pickle.load(feature_structure_file)\n",
    "\n",
    "# Split data into features and target\n",
    "X = data[feature_structure[\"cont\"]]\n",
    "y = data[feature_structure[\"target\"]]\n",
    "\n",
    "# Train-test split\n",
    "X_train, X_test, y_train, y_test = train_test_split(X, y, test_size=0.2, random_state=42)"
   ],
   "id": "f32e6ac6281b5420",
   "outputs": [],
   "execution_count": 1
  },
  {
   "metadata": {
    "jupyter": {
     "is_executing": true
    },
    "ExecuteTime": {
     "start_time": "2025-02-14T11:20:45.985454Z"
    }
   },
   "cell_type": "code",
   "source": [
    "from ass3.AutoMLClassifier import AutoMLClassifier\n",
    "\n",
    "automl_classifier = AutoMLClassifier()\n",
    "\n",
    "# Train with TPOT\n",
    "automl_classifier.train_tpot(X_train, y_train)\n",
    "tpot_predictions = automl_classifier.predict_tpot(X_test)\n",
    "tpot_accuracy = automl_classifier.evaluate(y_test, tpot_predictions)\n",
    "print(f\"[+] TPOT Accuracy: {tpot_accuracy}\")\n",
    "\n",
    "# Train with H2O AutoML\n",
    "automl_classifier.train_h2o(X_train, y_train)\n",
    "h2o_predictions = automl_classifier.predict_h2o(X_test)\n",
    "h2o_accuracy = automl_classifier.evaluate(y_test, h2o_predictions)\n",
    "print(f\"[+] H2O AutoML Accuracy: {h2o_accuracy}\")\n"
   ],
   "id": "c1c9fdd19071e366",
   "outputs": [
    {
     "name": "stderr",
     "output_type": "stream",
     "text": [
      "C:\\Users\\Dmytro\\IdeaProjects\\tu-ws-24-ml\\venv\\Lib\\site-packages\\tpot\\builtins\\__init__.py:36: UserWarning: Warning: optional dependency `torch` is not available. - skipping import of NN models.\n",
      "  warnings.warn(\"Warning: optional dependency `torch` is not available. - skipping import of NN models.\")\n"
     ]
    },
    {
     "name": "stdout",
     "output_type": "stream",
     "text": [
      "[*] Training TPOT Classifier\n"
     ]
    },
    {
     "data": {
      "text/plain": [
       "Optimization Progress:   0%|          | 0/50 [00:00<?, ?pipeline/s]"
      ],
      "application/vnd.jupyter.widget-view+json": {
       "version_major": 2,
       "version_minor": 0,
       "model_id": "4f5528fb1075419ebc9b00a2fec67823"
      }
     },
     "metadata": {},
     "output_type": "display_data"
    },
    {
     "name": "stdout",
     "output_type": "stream",
     "text": [
      "\n",
      "Generation 1 - Current best internal CV score: 0.9778743961352656\n",
      "\n",
      "Generation 2 - Current best internal CV score: 0.9778743961352656\n",
      "\n",
      "Generation 3 - Current best internal CV score: 0.9778743961352656\n",
      "\n",
      "Generation 4 - Current best internal CV score: 0.9778743961352656\n"
     ]
    }
   ],
   "execution_count": null
  },
  {
   "metadata": {
    "ExecuteTime": {
     "end_time": "2025-02-14T10:47:47.055987Z",
     "start_time": "2025-02-14T10:47:47.053951Z"
    }
   },
   "cell_type": "code",
   "source": "",
   "id": "ea31ae0003460756",
   "outputs": [],
   "execution_count": null
  }
 ],
 "metadata": {
  "kernelspec": {
   "display_name": "Python 3",
   "language": "python",
   "name": "python3"
  },
  "language_info": {
   "codemirror_mode": {
    "name": "ipython",
    "version": 2
   },
   "file_extension": ".py",
   "mimetype": "text/x-python",
   "name": "python",
   "nbconvert_exporter": "python",
   "pygments_lexer": "ipython2",
   "version": "2.7.6"
  }
 },
 "nbformat": 4,
 "nbformat_minor": 5
}
