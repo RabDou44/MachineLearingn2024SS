{
 "cells": [
  {
   "cell_type": "code",
   "execution_count": 10,
   "metadata": {},
   "outputs": [],
   "source": [
    "# setup + import\n",
    "from utils import *\n",
    "import os\n",
    "import sklearn\n",
    "import pandas as pd\n",
    "import pickle\n",
    "\n",
    "# setup + import\n",
    "data = pd.read_csv('../data_processed/loan-10k_lrn.csv')\n",
    "data.head()\n",
    "\n",
    "pickle_file = open('../data_processed/loan_column_types.pkl', 'rb')\n",
    "feature_structure = pickle.load(pickle_file)\n",
    "pickle_file.close()"
   ]
  },
  {
   "cell_type": "code",
   "execution_count": null,
   "metadata": {},
   "outputs": [
    {
     "data": {
      "text/html": [
       "<div>\n",
       "<style scoped>\n",
       "    .dataframe tbody tr th:only-of-type {\n",
       "        vertical-align: middle;\n",
       "    }\n",
       "\n",
       "    .dataframe tbody tr th {\n",
       "        vertical-align: top;\n",
       "    }\n",
       "\n",
       "    .dataframe thead th {\n",
       "        text-align: right;\n",
       "    }\n",
       "</style>\n",
       "<table border=\"1\" class=\"dataframe\">\n",
       "  <thead>\n",
       "    <tr style=\"text-align: right;\">\n",
       "      <th></th>\n",
       "      <th>type</th>\n",
       "      <th>columns</th>\n",
       "    </tr>\n",
       "  </thead>\n",
       "  <tbody>\n",
       "    <tr>\n",
       "      <th>0</th>\n",
       "      <td>bin</td>\n",
       "      <td>[term, pymnt_plan, initial_list_status, applic...</td>\n",
       "    </tr>\n",
       "    <tr>\n",
       "      <th>1</th>\n",
       "      <td>cat</td>\n",
       "      <td>[home_ownership, verification_status, loan_sta...</td>\n",
       "    </tr>\n",
       "    <tr>\n",
       "      <th>2</th>\n",
       "      <td>ord</td>\n",
       "      <td>[emp_length, issue_d_month, issue_d_year, earl...</td>\n",
       "    </tr>\n",
       "    <tr>\n",
       "      <th>3</th>\n",
       "      <td>cont</td>\n",
       "      <td>[loan_amnt, funded_amnt, funded_amnt_inv, int_...</td>\n",
       "    </tr>\n",
       "    <tr>\n",
       "      <th>4</th>\n",
       "      <td>target</td>\n",
       "      <td>grade</td>\n",
       "    </tr>\n",
       "  </tbody>\n",
       "</table>\n",
       "</div>"
      ],
      "text/plain": [
       "     type                                            columns\n",
       "0     bin  [term, pymnt_plan, initial_list_status, applic...\n",
       "1     cat  [home_ownership, verification_status, loan_sta...\n",
       "2     ord  [emp_length, issue_d_month, issue_d_year, earl...\n",
       "3    cont  [loan_amnt, funded_amnt, funded_amnt_inv, int_...\n",
       "4  target                                              grade"
      ]
     },
     "execution_count": 11,
     "metadata": {},
     "output_type": "execute_result"
    }
   ],
   "source": [
    "feature_columns = feature_structure['bin'] + feature_structure['cat'] + feature_structure['cont'] + feature_structure['ord']\n",
    "\n",
    "feature_structure[\"cat\"]\n",
    "TARGET = feature_structure[\"target\"]\n",
    "\n",
    "\n",
    "X = data[feature_columns]\n",
    "y = data[TARGET]\n",
    "\n",
    "values = [v  for _,v in feature_structure.items()]\n",
    "# pd.DataFrame({\"type\":[feature_structure.keys()], \"columns\":  values} )\n",
    "pd.DataFrame({\"type\":feature_structure.keys(), \"columns\":  values} )"
   ]
  },
  {
   "cell_type": "code",
   "execution_count": null,
   "metadata": {},
   "outputs": [],
   "source": [
    "from sklearn.svm import SVC\n",
    "from sklearn.neighbors import KNeighborsClassifier\n",
    "from sklearn.tree import DecisionTreeClassifier\n",
    "\n",
    "classifiers0 = [\n",
    "    SVC(kernel='linear', random_state=42, decision_function_shape='ovo', probability=True),\n",
    "    KNeighborsClassifier(n_neighbors=3, n_jobs=-1),\n",
    "    DecisionTreeClassifier(random_state=42),\n",
    "]\n",
    "\n",
    "classifier1 = [ KNeighborsClassifier(n_jobs=-1)]\n",
    "model1 = get_pipeline(feature_structure,classifier1[0])\n",
    "\n",
    "# single model training\n",
    "res_holdout, model_holdout = perform_holdout(X, y, model1, 42)\n",
    "res_cv, model_cv = perform_cv(X, y, model1)\n",
    "\n",
    "results = append_results({}, model_holdout, model_cv, res_holdout, res_cv)\n",
    "pd.DataFrame(results)"
   ]
  },
  {
   "cell_type": "markdown",
   "metadata": {},
   "source": [
    "Evaluating multiple models"
   ]
  },
  {
   "cell_type": "code",
   "execution_count": null,
   "metadata": {},
   "outputs": [],
   "source": [
    "evaluate_models(data, feature_structure, classifiers0)"
   ]
  },
  {
   "cell_type": "markdown",
   "metadata": {},
   "source": [
    "Comparison of SVC over kernel functions:"
   ]
  },
  {
   "cell_type": "code",
   "execution_count": null,
   "metadata": {},
   "outputs": [],
   "source": [
    "classifiersSVC = [\n",
    "    SVC(kernel='linear', random_state=42),\n",
    "    SVC(kernel='rbf', random_state=42),\n",
    "    SVC(kernel='poly', random_state=42),\n",
    "    SVC(kernel='sigmoid', random_state=42),\n",
    "]\n",
    "\n",
    "resultsSVC = evaluate_models(data, feature_structure, classifiersSVC)\n",
    "resultsSVC"
   ]
  },
  {
   "cell_type": "markdown",
   "metadata": {},
   "source": [
    "Comparison of KNeighbours over k "
   ]
  },
  {
   "cell_type": "code",
   "execution_count": null,
   "metadata": {},
   "outputs": [],
   "source": [
    "classifierKneighbors = [ KNeighborsClassifier(n_jobs=-1, n_neighbors=k) for k in range(2, 13)]\n",
    "resultsKNeighbors = evaluate_models(data, feature_structure, classifierKneighbors)\n",
    "resultsKNeighbors"
   ]
  },
  {
   "cell_type": "markdown",
   "metadata": {},
   "source": [
    "Decision Tree comparison over max_deph"
   ]
  },
  {
   "cell_type": "code",
   "execution_count": null,
   "metadata": {},
   "outputs": [],
   "source": [
    "classifierDecisionTree = [ DecisionTreeClassifier(random_state=42, max_depth=depth) for depth in range(3, 15)]\n",
    "resultsDecisionTree = evaluate_models(data, feature_structure, classifierDecisionTree)\n",
    "resultsDecisionTree"
   ]
  },
  {
   "cell_type": "code",
   "execution_count": 18,
   "metadata": {},
   "outputs": [],
   "source": [
    "from sklearn.tree import DecisionTreeClassifier\n",
    "import pandas as pd\n",
    "\n",
    "test_data = pd.read_csv('../data_processed/loan-10k_tes.csv')\n",
    "T = test_data[feature_columns]\n",
    "\n",
    "classifier = DecisionTreeClassifier(random_state=42, max_depth=9)\n",
    "model = get_pipeline(feature_structure,classifier)\n",
    "\n",
    "# training\n",
    "res_cv, model_cv = perform_cv(X, y, model)\n",
    "# prediction\n",
    "pred = model_cv.predict(T)\n",
    "\n",
    "with open('../data_processed/kaggle-loan-prediction.csv', 'w', newline='') as file:\n",
    "    for id_value, pred_value in zip(test_data[\"ID\"], pred):\n",
    "        file.write(f\"{id_value},{pred_value}\\n\")\n"
   ]
  },
  {
   "cell_type": "code",
   "execution_count": null,
   "metadata": {},
   "outputs": [],
   "source": []
  }
 ],
 "metadata": {
  "kernelspec": {
   "display_name": "Python 3",
   "language": "python",
   "name": "python3"
  },
  "language_info": {
   "codemirror_mode": {
    "name": "ipython",
    "version": 3
   },
   "file_extension": ".py",
   "mimetype": "text/x-python",
   "name": "python",
   "nbconvert_exporter": "python",
   "pygments_lexer": "ipython3",
   "version": "3.12.6"
  }
 },
 "nbformat": 4,
 "nbformat_minor": 2
}
