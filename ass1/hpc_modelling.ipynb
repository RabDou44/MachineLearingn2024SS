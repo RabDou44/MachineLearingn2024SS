{
 "cells": [
  {
   "cell_type": "code",
   "execution_count": null,
   "id": "initial_id",
   "metadata": {
    "ExecuteTime": {
     "end_time": "2024-11-19T18:58:25.607435Z",
     "start_time": "2024-11-19T18:58:25.582420Z"
    },
    "collapsed": true
   },
   "outputs": [],
   "source": [
    "\n",
    "import pickle\n",
    "\n",
    "import pandas as pd\n",
    "from sklearn.ensemble import RandomForestClassifier, GradientBoostingClassifier\n",
    "from sklearn.metrics import accuracy_score, confusion_matrix, classification_report\n",
    "from sklearn.model_selection import train_test_split\n",
    "from sklearn.neighbors import KNeighborsClassifier\n",
    "from sklearn.svm import SVC\n",
    "from sklearn.tree import DecisionTreeClassifier\n",
    "\n",
    "from utils import *\n",
    "\n",
    "# setup + import on pre-processed data:\n",
    "data = pd.read_csv('../data_processed/hpc_job_scheduling_with_timestamps.csv')\n",
    "pickle_file = open('../data_processed/hpc_job_scheduling_with_timestamps.pkl', 'rb')\n",
    "feature_structure = pickle.load(pickle_file)\n",
    "pickle_file.close()\n",
    "\n",
    "feature_columns = feature_structure['bin'] + feature_structure['cat'] + feature_structure['cont'] + feature_structure[\n",
    "    'ord']\n",
    "X = data[feature_columns]\n",
    "y = data['Class']\n",
    "\n",
    "# Split Data\n",
    "train_X, test_X, train_y, test_y = train_test_split(X, y, test_size=0.2, random_state=42)\n",
    "train_X.head()\n"
   ]
  },
  {
   "cell_type": "code",
   "execution_count": null,
   "id": "53bd7fc6e7788c84",
   "metadata": {
    "ExecuteTime": {
     "end_time": "2024-11-19T18:58:25.639892Z",
     "start_time": "2024-11-19T18:58:25.635698Z"
    }
   },
   "outputs": [],
   "source": [
    "def run_classifiers(input_classifiers):\n",
    "    for clf in input_classifiers:\n",
    "        clf_name = clf.__class__.__name__\n",
    "        model_pipeline = get_pipeline(feature_structure, clf=clf)\n",
    "        model_pipeline.fit(train_X, train_y)\n",
    "    \n",
    "        # Predictions and evaluation\n",
    "        predictions = model_pipeline.predict(test_X)\n",
    "        print(f\"Results for {clf_name}:\")\n",
    "        print(\"Accuracy:\", accuracy_score(test_y, predictions))\n",
    "        print(\"Confusion Matrix:\\n\", confusion_matrix(test_y, predictions))\n",
    "        print(\"Classification Report:\\n\", classification_report(test_y, predictions, zero_division=1))\n",
    "        print(\"\\n----------------------\\n\")"
   ]
  },
  {
   "cell_type": "code",
   "execution_count": null,
   "id": "185ea29b9b7c1f7e",
   "metadata": {
    "ExecuteTime": {
     "end_time": "2024-11-19T18:58:26.922615Z",
     "start_time": "2024-11-19T18:58:25.673383Z"
    }
   },
   "outputs": [],
   "source": [
    "classifiersSVC = [\n",
    "    SVC(kernel='linear', random_state=42),\n",
    "    SVC(kernel='rbf', random_state=42),\n",
    "    SVC(kernel='poly', random_state=42),\n",
    "    SVC(kernel='sigmoid', random_state=42),\n",
    "]\n",
    "\n",
    "resultsSVC = evaluate_models(data, feature_structure, classifiersSVC)\n",
    "resultsSVC"
   ]
  },
  {
   "cell_type": "code",
   "execution_count": null,
   "id": "87d5c9ebea96889a",
   "metadata": {
    "ExecuteTime": {
     "end_time": "2024-11-19T18:58:30.775387Z",
     "start_time": "2024-11-19T18:58:26.949644Z"
    }
   },
   "outputs": [],
   "source": [
    "classifierKneighbors = [ KNeighborsClassifier(n_jobs=-1, n_neighbors=k) for k in range(2, 13)]\n",
    "resultsKNeighbors = evaluate_models(data, feature_structure, classifierKneighbors)\n",
    "resultsKNeighbors"
   ]
  },
  {
   "cell_type": "code",
   "execution_count": null,
   "id": "d5ea07f907c6d7c5",
   "metadata": {
    "ExecuteTime": {
     "end_time": "2024-11-19T18:58:32.688075Z",
     "start_time": "2024-11-19T18:58:30.836768Z"
    }
   },
   "outputs": [],
   "source": [
    "classifierDecisionTree = [ DecisionTreeClassifier(random_state=42, max_depth=depth) for depth in range(3, 15)]\n",
    "resultsDecisionTree = evaluate_models(data, feature_structure, classifierDecisionTree)\n",
    "resultsDecisionTree"
   ]
  },
  {
   "cell_type": "code",
   "execution_count": null,
   "id": "a63d90f02af710ea",
   "metadata": {
    "ExecuteTime": {
     "end_time": "2024-11-19T18:58:32.744282Z",
     "start_time": "2024-11-19T18:58:32.741826Z"
    }
   },
   "outputs": [],
   "source": []
  },
  {
   "cell_type": "code",
   "execution_count": null,
   "id": "47bcd0c96c6d998e",
   "metadata": {
    "ExecuteTime": {
     "end_time": "2024-11-19T18:58:32.817965Z",
     "start_time": "2024-11-19T18:58:32.796528Z"
    }
   },
   "outputs": [],
   "source": [
    "# Latex\n",
    "\n",
    "print(results_to_latex(resultsKNeighbors, \"Results HPC k-NN\", \"bc_knn\"))\n",
    "print(\"\\n\")\n",
    "print(results_to_latex(resultsDecisionTree, \"Results HPC Decision Trees\", \"bc_dt\"))\n",
    "print(\"\\n\")\n",
    "print(results_to_latex(resultsSVC, \"Results HPC SVC\", \"bc_svc\"))"
   ]
  },
  {
   "cell_type": "markdown",
   "id": "99cb7e566cbadee9",
   "metadata": {},
   "source": [
    "## Original dataset"
   ]
  },
  {
   "cell_type": "code",
   "execution_count": 24,
   "id": "d172dceaa2ec2924",
   "metadata": {
    "ExecuteTime": {
     "end_time": "2024-11-19T18:58:32.850498Z",
     "start_time": "2024-11-19T18:58:32.835473Z"
    }
   },
   "outputs": [],
   "source": [
    "# Evaluate on original dataset:\n",
    "data = pd.read_csv('../data_processed/hpc_job_scheduling_original.csv')\n",
    "pickle_file = open('../data_processed/hpc_job_scheduling_original.pkl', 'rb')\n",
    "feature_structure = pickle.load(pickle_file)\n",
    "pickle_file.close()\n",
    "\n",
    "\n",
    "\n",
    "feature_columns = feature_structure['bin'] + feature_structure['cat'] + feature_structure['cont'] + feature_structure[\n",
    "    'ord']\n",
    "\n",
    "X = data[feature_columns]\n",
    "y = data[feature_structure['target']]\n"
   ]
  },
  {
   "cell_type": "code",
   "execution_count": null,
   "id": "3fcbcceb6d53c20a",
   "metadata": {
    "ExecuteTime": {
     "end_time": "2024-11-19T18:58:38.249234Z",
     "start_time": "2024-11-19T18:58:32.886024Z"
    }
   },
   "outputs": [],
   "source": [
    "resultsKNeighbors = evaluate_models(data, feature_structure, classifierKneighbors)\n",
    "resultsKNeighbors"
   ]
  },
  {
   "cell_type": "code",
   "execution_count": null,
   "id": "71b75e14f6a9d646",
   "metadata": {
    "ExecuteTime": {
     "end_time": "2024-11-19T18:58:40.336126Z",
     "start_time": "2024-11-19T18:58:38.309588Z"
    }
   },
   "outputs": [],
   "source": [
    "resultsDecisionTree = evaluate_models(data, feature_structure, classifierDecisionTree)\n",
    "resultsDecisionTree"
   ]
  },
  {
   "cell_type": "code",
   "execution_count": null,
   "id": "51dabfb6755b8f1a",
   "metadata": {
    "ExecuteTime": {
     "end_time": "2024-11-19T18:58:41.811822Z",
     "start_time": "2024-11-19T18:58:40.387414Z"
    }
   },
   "outputs": [],
   "source": [
    "resultsSVC = evaluate_models(data, feature_structure, classifiersSVC)\n",
    "resultsSVC"
   ]
  },
  {
   "cell_type": "code",
   "execution_count": null,
   "id": "ecc4350a06fa44da",
   "metadata": {
    "ExecuteTime": {
     "end_time": "2024-11-19T18:58:41.887547Z",
     "start_time": "2024-11-19T18:58:41.865531Z"
    }
   },
   "outputs": [],
   "source": [
    "# Original dataset\n",
    "\n",
    "# Latex\n",
    "print(results_to_latex(resultsKNeighbors, \"Results HPC k-NN\", \"bc_knn\"))\n",
    "print(\"\\n\")\n",
    "print(results_to_latex(resultsDecisionTree, \"Results HPC Decision Trees\", \"bc_dt\"))\n",
    "print(\"\\n\")\n",
    "print(results_to_latex(resultsSVC, \"Results HPC SVC\", \"bc_svc\"))"
   ]
  },
  {
   "cell_type": "markdown",
   "id": "5aad2f75",
   "metadata": {},
   "source": [
    "# Visualisation"
   ]
  },
  {
   "cell_type": "code",
   "execution_count": null,
   "id": "7864bde59bcd49b3",
   "metadata": {
    "ExecuteTime": {
     "end_time": "2024-11-19T18:58:41.949518Z",
     "start_time": "2024-11-19T18:58:41.947636Z"
    }
   },
   "outputs": [],
   "source": [
    "\n",
    "from visualisation import visualise_results\n",
    "\n",
    "visualise_results(resultsSVC, \"hpc\", 'kernel', ['linear', 'rbf', 'poly', 'sigmoid'])\n",
    "visualise_results(resultsDecisionTree,\"hpc\" ,'max_depth', range(3, 15))\n",
    "visualise_results(resultsKNeighbors, \"hpc\", 'n_neighbors', range(2, 13), print_results=True)"
   ]
  },
  {
   "cell_type": "code",
   "execution_count": null,
   "id": "4104d04d2a4d6997",
   "metadata": {
    "ExecuteTime": {
     "end_time": "2024-11-19T18:58:42.013982Z",
     "start_time": "2024-11-19T18:58:42.011984Z"
    }
   },
   "outputs": [],
   "source": [
    "results_cv_svc = resultsSVC[resultsSVC['model'].str.endswith('_CV')]\n",
    "results_cv_dt = resultsDecisionTree[resultsDecisionTree['model'].str.endswith('_CV')]\n",
    "results_cv_knn = resultsKNeighbors[resultsKNeighbors['model'].str.endswith('_CV')]\n",
    "\n"
   ]
  },
  {
   "cell_type": "code",
   "execution_count": null,
   "id": "b33b3739",
   "metadata": {},
   "outputs": [],
   "source": [
    "results_cv_svc.iloc[np.argmax(results_cv_svc['accuracy'])]\n",
    "results_cv_dt.iloc[np.argmax(results_cv_dt['accuracy'])]\n",
    "results_cv_knn.iloc[np.argmax(results_cv_knn['accuracy'])]"
   ]
  },
  {
   "cell_type": "code",
   "execution_count": 25,
   "id": "6593cda7",
   "metadata": {},
   "outputs": [],
   "source": [
    "best_models = [\n",
    "    get_pipeline(feature_structure,SVC(kernel='linear', random_state=42)),\n",
    "    get_pipeline(feature_structure,DecisionTreeClassifier(random_state=42, max_depth=3)),\n",
    "    get_pipeline(feature_structure,KNeighborsClassifier(n_jobs=-1, n_neighbors=12))\n",
    "]\n",
    "\n",
    "trainX, testX, trainY, testY = train_test_split(X, y, test_size=0.2, random_state=42)\n",
    "\n",
    "_ , modelSVC = perform_cv(X, y, best_models[0])\n",
    "_ , modelDT = perform_cv(X, y, best_models[1])\n",
    "_ , modelKNN = perform_cv(X, y, best_models[2])\n",
    "\n",
    "# prediction\n",
    "y_predKNN = modelKNN.predict(testX)\n",
    "y_predSVC = modelSVC.predict(testX)\n",
    "y_predDT = modelDT.predict(testX)\n"
   ]
  },
  {
   "cell_type": "code",
   "execution_count": 26,
   "id": "3f51229f",
   "metadata": {},
   "outputs": [
    {
     "data": {
      "image/png": "[encoded data removed]",
      "text/plain": [
       "<Figure size 1000x600 with 2 Axes>"
      ]
     },
     "metadata": {},
     "output_type": "display_data"
    },
    {
     "data": {
      "image/png": "[encoded data removed]",
      "text/plain": [
       "<Figure size 1000x600 with 2 Axes>"
      ]
     },
     "metadata": {},
     "output_type": "display_data"
    },
    {
     "data": {
      "image/png": "[encoded data removed]",
      "text/plain": [
       "<Figure size 1000x600 with 2 Axes>"
      ]
     },
     "metadata": {},
     "output_type": "display_data"
    },
    {
     "data": {
      "text/plain": [
       "<module 'matplotlib.pyplot' from 'c:\\\\Users\\\\Adam\\\\Documents\\\\TUWien\\\\2024WS\\\\MachineLearning\\\\MachineLearingn2024SS\\\\venv\\\\Lib\\\\site-packages\\\\matplotlib\\\\pyplot.py'>"
      ]
     },
     "execution_count": 26,
     "metadata": {},
     "output_type": "execute_result"
    }
   ],
   "source": [
    "from visualisation import plot_confusion_matrix\n",
    "\n",
    "plot_confusion_matrix(testY, y_predKNN, \"hpc_knn\")\n",
    "plot_confusion_matrix(testY, y_predSVC, \"hpc_svc\")\n",
    "plot_confusion_matrix(testY, y_predDT, \"hpc_dt\")"
   ]
  },
  {
   "cell_type": "code",
   "execution_count": null,
   "id": "e44277e7",
   "metadata": {},
   "outputs": [],
   "source": []
  }
 ],
 "metadata": {
  "kernelspec": {
   "display_name": "venv",
   "language": "python",
   "name": "python3"
  },
  "language_info": {
   "codemirror_mode": {
    "name": "ipython",
    "version": 3
   },
   "file_extension": ".py",
   "mimetype": "text/x-python",
   "name": "python",
   "nbconvert_exporter": "python",
   "pygments_lexer": "ipython3",
   "version": "3.12.0"
  }
 },
 "nbformat": 4,
 "nbformat_minor": 5
}
