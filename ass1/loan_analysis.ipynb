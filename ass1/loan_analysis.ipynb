{
 "cells": [
  {
   "cell_type": "markdown",
   "metadata": {
    "vscode": {
     "languageId": "plaintext"
    }
   },
   "source": [
    "# Loan dataset analysis"
   ]
  },
  {
   "cell_type": "code",
   "execution_count": 2,
   "metadata": {},
   "outputs": [
    {
     "name": "stdout",
     "output_type": "stream",
     "text": [
      "90 attributes + ID + target (grade), 10000 samples\n",
      "\n",
      "Basic Information:\n",
      "<class 'pandas.core.frame.DataFrame'>\n",
      "RangeIndex: 10000 entries, 0 to 9999\n",
      "Data columns (total 92 columns):\n",
      " #   Column                      Non-Null Count  Dtype  \n",
      "---  ------                      --------------  -----  \n",
      " 0   ID                          10000 non-null  int64  \n",
      " 1   loan_amnt                   10000 non-null  float64\n",
      " 2   funded_amnt                 10000 non-null  float64\n",
      " 3   funded_amnt_inv             10000 non-null  float64\n",
      " 4   term                        10000 non-null  object \n",
      " 5   int_rate                    10000 non-null  float64\n",
      " 6   installment                 10000 non-null  float64\n",
      " 7   emp_length                  10000 non-null  object \n",
      " 8   home_ownership              10000 non-null  object \n",
      " 9   annual_inc                  10000 non-null  float64\n",
      " 10  verification_status         10000 non-null  object \n",
      " 11  loan_status                 10000 non-null  object \n",
      " 12  pymnt_plan                  10000 non-null  object \n",
      " 13  purpose                     10000 non-null  object \n",
      " 14  addr_state                  10000 non-null  object \n",
      " 15  dti                         10000 non-null  float64\n",
      " 16  delinq_2yrs                 10000 non-null  float64\n",
      " 17  fico_range_low              10000 non-null  float64\n",
      " 18  fico_range_high             10000 non-null  float64\n",
      " 19  inq_last_6mths              10000 non-null  float64\n",
      " 20  open_acc                    10000 non-null  float64\n",
      " 21  pub_rec                     10000 non-null  float64\n",
      " 22  revol_bal                   10000 non-null  float64\n",
      " 23  revol_util                  10000 non-null  float64\n",
      " 24  total_acc                   10000 non-null  float64\n",
      " 25  initial_list_status         10000 non-null  object \n",
      " 26  out_prncp                   10000 non-null  float64\n",
      " 27  out_prncp_inv               10000 non-null  float64\n",
      " 28  total_pymnt                 10000 non-null  float64\n",
      " 29  total_pymnt_inv             10000 non-null  float64\n",
      " 30  total_rec_prncp             10000 non-null  float64\n",
      " 31  total_rec_int               10000 non-null  float64\n",
      " 32  total_rec_late_fee          10000 non-null  float64\n",
      " 33  recoveries                  10000 non-null  float64\n",
      " 34  collection_recovery_fee     10000 non-null  float64\n",
      " 35  last_pymnt_amnt             10000 non-null  float64\n",
      " 36  last_fico_range_high        10000 non-null  float64\n",
      " 37  last_fico_range_low         10000 non-null  float64\n",
      " 38  collections_12_mths_ex_med  10000 non-null  float64\n",
      " 39  policy_code                 10000 non-null  float64\n",
      " 40  application_type            10000 non-null  object \n",
      " 41  acc_now_delinq              10000 non-null  float64\n",
      " 42  tot_coll_amt                10000 non-null  float64\n",
      " 43  tot_cur_bal                 10000 non-null  float64\n",
      " 44  total_rev_hi_lim            10000 non-null  float64\n",
      " 45  acc_open_past_24mths        10000 non-null  float64\n",
      " 46  avg_cur_bal                 10000 non-null  float64\n",
      " 47  bc_open_to_buy              10000 non-null  float64\n",
      " 48  bc_util                     10000 non-null  float64\n",
      " 49  chargeoff_within_12_mths    10000 non-null  float64\n",
      " 50  delinq_amnt                 10000 non-null  float64\n",
      " 51  mo_sin_old_il_acct          10000 non-null  float64\n",
      " 52  mo_sin_old_rev_tl_op        10000 non-null  float64\n",
      " 53  mo_sin_rcnt_rev_tl_op       10000 non-null  float64\n",
      " 54  mo_sin_rcnt_tl              10000 non-null  float64\n",
      " 55  mort_acc                    10000 non-null  float64\n",
      " 56  mths_since_recent_bc        10000 non-null  float64\n",
      " 57  mths_since_recent_inq       10000 non-null  float64\n",
      " 58  num_accts_ever_120_pd       10000 non-null  float64\n",
      " 59  num_actv_bc_tl              10000 non-null  float64\n",
      " 60  num_actv_rev_tl             10000 non-null  float64\n",
      " 61  num_bc_sats                 10000 non-null  float64\n",
      " 62  num_bc_tl                   10000 non-null  float64\n",
      " 63  num_il_tl                   10000 non-null  float64\n",
      " 64  num_op_rev_tl               10000 non-null  float64\n",
      " 65  num_rev_accts               10000 non-null  float64\n",
      " 66  num_rev_tl_bal_gt_0         10000 non-null  float64\n",
      " 67  num_sats                    10000 non-null  float64\n",
      " 68  num_tl_120dpd_2m            10000 non-null  float64\n",
      " 69  num_tl_30dpd                10000 non-null  float64\n",
      " 70  num_tl_90g_dpd_24m          10000 non-null  float64\n",
      " 71  num_tl_op_past_12m          10000 non-null  float64\n",
      " 72  pct_tl_nvr_dlq              10000 non-null  float64\n",
      " 73  percent_bc_gt_75            10000 non-null  float64\n",
      " 74  pub_rec_bankruptcies        10000 non-null  float64\n",
      " 75  tax_liens                   10000 non-null  float64\n",
      " 76  tot_hi_cred_lim             10000 non-null  float64\n",
      " 77  total_bal_ex_mort           10000 non-null  float64\n",
      " 78  total_bc_limit              10000 non-null  float64\n",
      " 79  total_il_high_credit_limit  10000 non-null  float64\n",
      " 80  hardship_flag               10000 non-null  object \n",
      " 81  disbursement_method         10000 non-null  object \n",
      " 82  debt_settlement_flag        10000 non-null  object \n",
      " 83  issue_d_month               10000 non-null  int64  \n",
      " 84  issue_d_year                10000 non-null  int64  \n",
      " 85  earliest_cr_line_month      10000 non-null  int64  \n",
      " 86  earliest_cr_line_year       10000 non-null  int64  \n",
      " 87  last_pymnt_d_month          10000 non-null  int64  \n",
      " 88  last_pymnt_d_year           10000 non-null  int64  \n",
      " 89  last_credit_pull_d_month    10000 non-null  int64  \n",
      " 90  last_credit_pull_d_year     10000 non-null  int64  \n",
      " 91  grade                       10000 non-null  object \n",
      "dtypes: float64(69), int64(9), object(14)\n",
      "memory usage: 7.0+ MB\n",
      "None\n"
     ]
    }
   ],
   "source": [
    "import pandas as pd\n",
    "import numpy as np\n",
    "from pandas.api.types import is_integer_dtype\n",
    "from sklearn.preprocessing import OrdinalEncoder\n",
    "\n",
    "df = pd.read_csv('../data/kaggle/loan/loan-10k.lrn.csv')\n",
    "df2 = pd.read_csv('../data/kaggle/loan/loan-10k.tes.csv')\n",
    "\n",
    "print(f\"{len(df.columns) - 2} attributes + ID + target (grade), {len(df)} samples\\n\")\n",
    "\n",
    "print(\"Basic Information:\")\n",
    "print(df.info())"
   ]
  },
  {
   "cell_type": "markdown",
   "metadata": {},
   "source": [
    "I don't think there are any missing values, no NaN, - or anything like that."
   ]
  },
  {
   "cell_type": "markdown",
   "metadata": {},
   "source": [
    "# "
   ]
  },
  {
   "cell_type": "markdown",
   "metadata": {},
   "source": [
    "## Separate + check columns"
   ]
  },
  {
   "cell_type": "markdown",
   "metadata": {},
   "source": [
    "### id + target"
   ]
  },
  {
   "cell_type": "code",
   "execution_count": null,
   "metadata": {},
   "outputs": [
    {
     "name": "stdout",
     "output_type": "stream",
     "text": [
      "id: ID (10000)\n",
      "target: grade (7): ['A' 'B' 'C' 'D' 'E' 'F' 'G']\n"
     ]
    },
    {
     "data": {
      "image/png": "[encoded data removed]",
      "text/plain": [
       "<Figure size 640x480 with 1 Axes>"
      ]
     },
     "metadata": {},
     "output_type": "display_data"
    }
   ],
   "source": [
    "import matplotlib as plt\n",
    "\n",
    "binary = []\n",
    "categorical = []\n",
    "ordinal = []\n",
    "numeric = []\n",
    "removed = []\n",
    "columns = df.columns[1:-1].to_list()\n",
    "print(f\"id: ID ({df[\"ID\"].nunique()})\")\n",
    "print(f\"target: grade ({df[\"grade\"].nunique()}): {df[\"grade\"].sort_values().unique()}\")\n",
    "\n",
    "ax = df[\"grade\"].sort_values().hist(bins=np.arange(8)-0.5, align='mid', ec='black')\n",
    "# ax.set_xticks(range(7))\n",
    "# ax.set_xticklabels(category_counts.index5)"
   ]
  },
  {
   "cell_type": "markdown",
   "metadata": {},
   "source": [
    "### objects"
   ]
  },
  {
   "cell_type": "code",
   "execution_count": null,
   "metadata": {},
   "outputs": [
    {
     "name": "stdout",
     "output_type": "stream",
     "text": [
      "total objects: 13\n",
      "term (2): [' 36 months' ' 60 months']\n",
      "emp_length (11): ['1 year' '10+ years' '2 years' '3 years' '4 years' '5 years' '6 years'\n",
      " '7 years' '8 years' '9 years' '< 1 year']\n",
      "home_ownership (5): ['ANY' 'MORTGAGE' 'OTHER' 'OWN' 'RENT']\n",
      "verification_status (3): ['Not Verified' 'Source Verified' 'Verified']\n",
      "loan_status (6): ['Charged Off' 'Current' 'Fully Paid' 'In Grace Period'\n",
      " 'Late (16-30 days)' 'Late (31-120 days)']\n",
      "pymnt_plan (2): ['n' 'y']\n",
      "purpose (13): ['car' 'credit_card' 'debt_consolidation' 'home_improvement' 'house'\n",
      " 'major_purchase' 'medical' 'moving' 'other' 'renewable_energy'\n",
      " 'small_business' 'vacation' 'wedding']\n",
      "addr_state (50): ['AK' 'AL' 'AR' 'AZ' 'CA' 'CO' 'CT' 'DC' 'DE' 'FL' 'GA' 'HI' 'ID' 'IL'\n",
      " 'IN' 'KS' 'KY' 'LA' 'MA' 'MD' 'ME' 'MI' 'MN' 'MO' 'MS' 'MT' 'NC' 'ND'\n",
      " 'NE' 'NH' 'NJ' 'NM' 'NV' 'NY' 'OH' 'OK' 'OR' 'PA' 'RI' 'SC' 'SD' 'TN'\n",
      " 'TX' 'UT' 'VA' 'VT' 'WA' 'WI' 'WV' 'WY']\n",
      "initial_list_status (2): ['f' 'w']\n",
      "application_type (2): ['Individual' 'Joint App']\n",
      "hardship_flag (2): ['N' 'Y']\n",
      "disbursement_method (2): ['Cash' 'DirectPay']\n",
      "debt_settlement_flag (2): ['N' 'Y']\n"
     ]
    }
   ],
   "source": [
    "object_cols = [col for col in columns if df[col].dtype == object]\n",
    "\n",
    "print(f\"total objects: {len(object_cols)}\")\n",
    "for col in object_cols:\n",
    "    print(col + f\" ({str(df[col].nunique())}): {df[col].sort_values().unique()}\")\n",
    "\n",
    "# emp_length as ordinal\n",
    "object_cols.remove(\"emp_length\")\n",
    "enc = OrdinalEncoder(categories=[['< 1 year', '1 year', '2 years', '3 years', '4 years', '5 years', '6 years', '7 years', '8 years', '9 years', '10+ years' ]])\n",
    "df[[\"emp_length\"]] = enc.fit_transform(df[[\"emp_length\"]])\n",
    "df2[[\"emp_length\"]] = enc.fit_transform(df2[[\"emp_length\"]])\n",
    "ordinal.append(\"emp_length\")\n",
    "columns.remove(\"emp_length\")\n",
    "\n",
    "# rest is either binary or categorical\n",
    "binary.extend([col for col in object_cols if df[col].nunique() == 2])\n",
    "categorical.extend([col for col in object_cols if df[col].nunique() > 2])\n"
   ]
  },
  {
   "cell_type": "markdown",
   "metadata": {},
   "source": [
    "* 13 that got parsed as object\n",
    "* All categorical\n",
    "* Most nominal, some could be considered ordinal (e.g. term, emp_lengh, loan status)\n",
    "* addr_state has 50 unique values, a lot for a categorical variable"
   ]
  },
  {
   "cell_type": "markdown",
   "metadata": {},
   "source": [
    "### ints"
   ]
  },
  {
   "cell_type": "code",
   "execution_count": 143,
   "metadata": {},
   "outputs": [
    {
     "name": "stdout",
     "output_type": "stream",
     "text": [
      "total ints: 8\n",
      "issue_d_month (12): [ 0  1  2  3  4  5  6  7  8  9 10 11]\n",
      "issue_d_year (7): [2012 2013 2014 2015 2016 2017 2018]\n",
      "earliest_cr_line_month (12): [ 0  1  2  3  4  5  6  7  8  9 10 11]\n",
      "earliest_cr_line_year (51): [1965 1966 1967 1968 1969 1970 1971 1972 1973 1974 1975 1976 1977 1978\n",
      " 1979 1980 1981 1982 1983 1984 1985 1986 1987 1988 1989 1990 1991 1992\n",
      " 1993 1994 1995 1996 1997 1998 1999 2000 2001 2002 2003 2004 2005 2006\n",
      " 2007 2008 2009 2010 2011 2012 2013 2014 2015]\n",
      "last_pymnt_d_month (12): [ 0  1  2  3  4  5  6  7  8  9 10 11]\n",
      "last_pymnt_d_year (8): [2012 2013 2014 2015 2016 2017 2018 2019]\n",
      "last_credit_pull_d_month (12): [ 0  1  2  3  4  5  6  7  8  9 10 11]\n",
      "last_credit_pull_d_year (8): [2012 2013 2014 2015 2016 2017 2018 2019]\n"
     ]
    }
   ],
   "source": [
    "int_cols = [col for col in columns if is_integer_dtype(df[col])]\n",
    "\n",
    "print(f\"total ints: {len(int_cols)}\")\n",
    "for col in int_cols:\n",
    "    print(col + f\" ({str(df[col].nunique())}): {df[col].sort_values().unique() if df[col].nunique() <= 100 else \"-\"}\")\n",
    "\n",
    "ordinal.extend(int_cols)"
   ]
  },
  {
   "cell_type": "markdown",
   "metadata": {},
   "source": [
    "* 8 that got parsed as integers\n",
    "* All month/year so I would say all interval data (order with fixed units inbetween)"
   ]
  },
  {
   "cell_type": "code",
   "execution_count": 144,
   "metadata": {},
   "outputs": [
    {
     "name": "stdout",
     "output_type": "stream",
     "text": [
      "total floats: 69\n",
      "loan_amnt (821): -\n",
      "funded_amnt (821): -\n",
      "funded_amnt_inv (917): -\n",
      "int_rate (338): -\n",
      "installment (6421): -\n",
      "annual_inc (1292): -\n",
      "dti (3308): -\n",
      "delinq_2yrs (15): [ 0.  1.  2.  5.  3.  4.  8.  6. 16.  7.  9. 13. 12. 11. 10.]\n",
      "fico_range_low (38): [715. 670. 665. 675. 660. 750. 705. 680. 700. 690. 710. 685. 720. 765.\n",
      " 695. 740. 730. 795. 745. 735. 835. 725. 785. 780. 755. 820. 805. 770.\n",
      " 800. 815. 760. 775. 790. 810. 840. 825. 830. 845.]\n",
      "fico_range_high (38): [719. 674. 669. 679. 664. 754. 709. 684. 704. 694. 714. 689. 724. 769.\n",
      " 699. 744. 734. 799. 749. 739. 839. 729. 789. 784. 759. 824. 809. 774.\n",
      " 804. 819. 764. 779. 794. 814. 844. 829. 834. 850.]\n",
      "inq_last_6mths (7): [1. 0. 3. 2. 5. 4. 6.]\n",
      "open_acc (47): [29. 22.  5. 12. 19. 13. 11. 14.  8. 16.  7.  6. 20.  4. 10.  9. 17. 15.\n",
      " 30. 18. 23. 33. 24. 28. 25. 32. 21. 27. 26.  3. 35. 63. 31. 44. 52. 53.\n",
      "  2. 36. 38. 37. 42. 40. 34. 39. 46. 43. 45.]\n",
      "pub_rec (8): [0. 1. 2. 3. 4. 5. 6. 7.]\n",
      "revol_bal (8601): -\n",
      "revol_util (1011): -\n",
      "total_acc (85): [61. 59. 10. 33. 20. 38. 13. 27. 42. 22. 15. 28. 16. 21. 25. 32. 12. 23.\n",
      " 31. 26. 35. 36. 17. 63. 18. 24. 30. 43. 47. 37. 19.  4. 11. 29. 44. 14.\n",
      " 68. 34. 41. 49.  9.  5. 51. 45. 40. 39. 56. 48. 50. 57.  6.  8. 53. 70.\n",
      " 64. 55. 86. 90.  7. 69. 62. 73. 54. 85. 52. 76. 46. 58. 67. 65.  3. 81.\n",
      " 60. 77. 72. 71. 78. 74. 89. 96. 66. 82. 84. 91. 93.]\n",
      "out_prncp (3996): -\n",
      "out_prncp_inv (4001): -\n",
      "total_pymnt (9915): -\n",
      "total_pymnt_inv (9891): -\n",
      "total_rec_prncp (5711): -\n",
      "total_rec_int (9797): -\n",
      "total_rec_late_fee (299): -\n",
      "recoveries (786): -\n",
      "collection_recovery_fee (767): -\n",
      "last_pymnt_amnt (8458): -\n",
      "last_fico_range_high (72): [724. 634. 674. 599. 679. 594. 714. 654. 739. 719. 694. 759. 754. 779.\n",
      " 769. 664. 734. 574. 699. 709. 689. 539. 774. 704. 534. 744. 784. 614.\n",
      " 829. 564. 639. 604. 684. 529. 499. 644. 804. 819. 729. 799. 669. 659.\n",
      " 589. 789. 579. 524. 809. 629. 649. 624. 609. 619. 549. 834. 584. 559.\n",
      " 569. 554. 749. 519. 514. 764. 839. 794. 544. 844. 509. 824. 504. 814.\n",
      "   0. 850.]\n",
      "last_fico_range_low (71): [720. 630. 670. 595. 675. 590. 710. 650. 735. 715. 690. 755. 750. 775.\n",
      " 765. 660. 730. 570. 695. 705. 685. 535. 770. 700. 530. 740. 780. 610.\n",
      " 825. 560. 635. 600. 680. 525.   0. 640. 800. 815. 725. 795. 665. 655.\n",
      " 585. 785. 575. 520. 805. 625. 645. 620. 605. 615. 545. 830. 580. 555.\n",
      " 565. 550. 745. 515. 510. 760. 835. 790. 540. 840. 505. 820. 500. 810.\n",
      " 845.]\n",
      "collections_12_mths_ex_med (4): [0. 1. 2. 3.]\n",
      "policy_code (1): [1.]\n",
      "acc_now_delinq (3): [0. 1. 2.]\n",
      "tot_coll_amt (945): -\n",
      "tot_cur_bal (9809): -\n",
      "total_rev_hi_lim (1342): -\n",
      "acc_open_past_24mths (27): [12.  4.  6.  9.  1.  5.  2.  3.  7. 11.  0. 10.  8. 23. 18. 13. 14. 17.\n",
      " 15. 16. 19. 20. 22. 21. 28. 24. 37.]\n",
      "avg_cur_bal (8270): -\n",
      "bc_open_to_buy (7702): -\n",
      "bc_util (1044): -\n",
      "chargeoff_within_12_mths (4): [0. 2. 1. 3.]\n",
      "delinq_amnt (29): [0.0000e+00 1.8380e+03 1.5765e+04 1.8200e+03 2.5000e+01 5.6800e+02\n",
      " 6.0000e+01 3.5300e+02 1.0040e+03 4.5000e+01 1.8778e+04 3.3000e+01\n",
      " 7.9800e+02 5.9000e+01 1.8700e+02 6.3800e+02 3.6787e+04 3.7300e+02\n",
      " 4.1000e+01 3.7000e+01 3.2300e+02 7.8000e+01 1.0370e+03 7.0000e+01\n",
      " 5.7000e+01 2.0000e+00 2.7000e+01 7.3000e+01 5.3000e+01]\n",
      "mo_sin_old_il_acct (326): -\n",
      "mo_sin_old_rev_tl_op (502): -\n",
      "mo_sin_rcnt_rev_tl_op (126): -\n",
      "mo_sin_rcnt_tl (67): [  3.   4.   2.   1.   8.   9.   7.   5.  10.   6.  14.  12.  13.  19.\n",
      "  16.  20.  11.  28.   0.  15.  18.  25.  22.  23.  17.  32.  40.  21.\n",
      "  31.  54.  24.  82.  29.  30.  36.  72.  58.  27.  38.  46.  33.  50.\n",
      "  43.  35.  81.  55.  53.  34.  37.  57.  26. 117.  44.  42.  49.  41.\n",
      "  45.  47.  96.  48.  68.  69.  60.  39.  67.  61.  98.]\n",
      "mort_acc (17): [ 1.  5.  0.  2.  3.  4.  7.  8.  6.  9. 10. 11. 12. 17. 46. 13. 14.]\n",
      "mths_since_recent_bc (197): -\n",
      "mths_since_recent_inq (25): [ 3.  4.  0.  5.  8. 11.  7. 10.  1. 14. 21. 13. 19. 12. 18.  6.  2. 15.\n",
      " 22. 20.  9. 17. 16. 24. 23.]\n",
      "num_accts_ever_120_pd (22): [ 1.  0.  2.  7.  3. 10.  4.  8.  9.  5.  6. 16. 12. 14. 11. 27. 23. 15.\n",
      " 22. 25. 13. 17.]\n",
      "num_actv_bc_tl (22): [11.  4.  3. 10.  6.  1.  2.  5.  7.  8. 16.  9. 12. 18.  0. 14. 23. 13.\n",
      " 15. 29. 17. 19.]\n",
      "num_actv_rev_tl (31): [11. 12.  3. 17.  9.  7.  1.  6.  5.  8.  4.  2. 14. 10. 19. 13. 15. 16.\n",
      " 26.  0. 35. 18. 21. 20. 22. 23. 25. 24. 27. 42. 28.]\n",
      "num_bc_sats (28): [12.  5.  4. 11.  6.  1.  2.  9.  3.  7.  8. 10. 16. 14. 17. 15. 19. 13.\n",
      " 18. 34. 25. 20. 22. 32. 21. 24. 23.  0.]\n",
      "num_bc_tl (38): [21.  7.  5. 17.  6.  2.  4. 11. 10.  3.  8.  9. 18. 14. 15. 12. 25. 24.\n",
      "  1. 13. 20. 38. 19. 26. 27. 22. 16. 23. 29. 48. 30. 31. 28. 34. 35. 40.\n",
      " 32. 42.]\n",
      "num_il_tl (64): [32. 28.  3.  1.  4. 20. 11. 17. 15. 29.  2.  8.  6. 13. 10.  9.  5. 12.\n",
      "  7. 22. 18. 16. 19. 25. 23. 35. 24. 14. 40. 21. 33. 43. 27. 36. 31. 37.\n",
      " 30. 51. 58. 54. 38. 42. 26. 34. 39. 50. 52. 69. 66. 47. 49. 41. 45. 59.\n",
      " 55. 44. 60. 64. 46. 76. 62. 72. 75. 48.]\n",
      "num_op_rev_tl (40): [15. 18.  4. 21. 10.  8.  2.  6.  7. 12.  5. 11. 17.  9. 13. 24.  3. 19.\n",
      " 14. 16. 25. 31. 22. 28. 62.  1. 23. 20. 36. 27. 33. 32. 29. 30. 26. 37.\n",
      " 40. 52. 35. 38.]\n",
      "num_rev_accts (61): [28. 26.  7. 32. 13. 17.  2.  8. 12. 10.  6. 18. 11. 19.  5.  9. 14. 22.\n",
      " 20. 24. 15. 43. 23. 21. 31. 41. 16.  3. 30.  4. 51. 33. 34. 27. 44. 29.\n",
      " 38. 37. 40. 67. 36. 83. 25. 48. 35. 42. 39. 49. 50. 47. 45. 57. 46. 55.\n",
      " 59. 61. 65. 58. 53. 60. 71.]\n",
      "num_rev_tl_bal_gt_0 (30): [11. 12.  3. 17.  9.  7.  1.  6.  5.  8.  4.  2. 14. 10. 19. 13. 15. 16.\n",
      " 26.  0. 18. 35. 21. 20. 22. 23. 25. 24. 28. 42.]\n",
      "num_sats (47): [29. 22.  5. 12. 19. 13. 11. 14.  8. 16.  7.  6. 20.  4. 10.  9. 17. 15.\n",
      " 30. 18. 23. 33. 24. 28. 25. 32. 21. 27. 26.  3. 35. 63. 31. 44. 52. 53.\n",
      "  2. 36. 38. 37. 42. 40. 34. 39. 46. 43. 45.]\n",
      "num_tl_120dpd_2m (2): [0. 1.]\n",
      "num_tl_30dpd (3): [0. 1. 2.]\n",
      "num_tl_90g_dpd_24m (11): [ 0.  1.  2.  3.  6.  4.  5.  8. 10.  7.  9.]\n",
      "num_tl_op_past_12m (18): [ 3.  2.  1.  0.  4.  7. 10.  5.  6.  8.  9. 11. 14. 12. 13. 16. 15. 17.]\n",
      "pct_tl_nvr_dlq (291): -\n",
      "percent_bc_gt_75 (88): [  0.   40.   25.   90.9 100.   50.   12.5  33.3  54.5  75.   42.9  80.\n",
      "  66.7  28.6  85.7  20.   87.5  16.7  10.   71.4  88.9  21.4  60.    6.2\n",
      "  83.3  30.   37.5  57.1  44.4  14.3  77.8  11.1   7.1  70.   36.4  62.5\n",
      "  41.7  27.8  22.2  18.2   5.9  63.6   7.7  72.7  90.   27.3   9.1  78.6\n",
      "   8.3  31.3  55.6  45.5  13.3  91.7  11.8   5.6   6.7  38.5  55.   26.7\n",
      "  58.3  30.8  69.2   5.3  15.   35.7  53.3  15.4  29.4  17.6  18.8  23.1\n",
      "  53.8  18.7  41.2  46.7  19.    6.3  64.3  15.8  13.   46.2  92.3  35.\n",
      "  81.8  23.5  43.8  56.2]\n",
      "pub_rec_bankruptcies (7): [0. 1. 2. 3. 7. 4. 6.]\n",
      "tax_liens (8): [0. 1. 2. 3. 4. 5. 6. 7.]\n",
      "tot_hi_cred_lim (9564): -\n",
      "total_bal_ex_mort (9510): -\n",
      "total_bc_limit (1054): -\n",
      "total_il_high_credit_limit (8297): -\n"
     ]
    }
   ],
   "source": [
    "float_cols = [col for col in columns if df[col].dtype == float]\n",
    "\n",
    "print(f\"total floats: {len(float_cols)}\")\n",
    "for col in float_cols:\n",
    "    print(col + f\" ({str(df[col].nunique())}): {df[col].unique() if df[col].nunique() <= 100 else \"-\"}\")"
   ]
  },
  {
   "cell_type": "markdown",
   "metadata": {},
   "source": [
    "* lots of float variables\n",
    "* policy_code has only one entry => remove it\n",
    "* the following can be considered ordinal:"
   ]
  },
  {
   "cell_type": "code",
   "execution_count": 145,
   "metadata": {},
   "outputs": [
    {
     "name": "stdout",
     "output_type": "stream",
     "text": [
      "drop policy_code\n",
      "num_tl_120dpd_2m is binary: [0. 1.]\n",
      "\n",
      "inq_last_6mths (7): [1. 0. 3. 2. 5. 4. 6.]\n",
      "pub_rec (8): [0. 1. 2. 3. 4. 5. 6. 7.]\n",
      "collections_12_mths_ex_med (4): [0. 1. 2. 3.]\n",
      "acc_now_delinq (3): [0. 1. 2.]\n",
      "chargeoff_within_12_mths (4): [0. 2. 1. 3.]\n",
      "mths_since_recent_inq (25): [ 3.  4.  0.  5.  8. 11.  7. 10.  1. 14. 21. 13. 19. 12. 18.  6.  2. 15.\n",
      " 22. 20.  9. 17. 16. 24. 23.]\n",
      "num_tl_30dpd (3): [0. 1. 2.]\n",
      "num_tl_90g_dpd_24m (11): [ 0.  1.  2.  3.  6.  4.  5.  8. 10.  7.  9.]\n",
      "num_tl_op_past_12m (18): [ 3.  2.  1.  0.  4.  7. 10.  5.  6.  8.  9. 11. 14. 12. 13. 16. 15. 17.]\n",
      "tax_liens (8): [0. 1. 2. 3. 4. 5. 6. 7.]\n"
     ]
    }
   ],
   "source": [
    "# delete column with only one value\n",
    "for col in float_cols:\n",
    "    if df[col].nunique() <= 1:\n",
    "        print(f\"drop {col}\")\n",
    "        removed.append(col)\n",
    "        float_cols.remove(col)\n",
    "        df.drop(columns=[col])\n",
    "        # df2.drop(columns=[col])\n",
    "\n",
    "# find binaries\n",
    "for col in float_cols:\n",
    "    if df[col].nunique() == 2:\n",
    "        print(f\"{col} is binary: {df[col].unique()}\")\n",
    "        binary.append(col)\n",
    "        float_cols.remove(col)\n",
    "\n",
    "print(\"\")\n",
    "\n",
    "candidates = [col for col in float_cols if df[col].nunique() <= 100 and max(df[col]) - min(df[col]) == df[col].nunique()-1]\n",
    "\n",
    "for col in candidates:\n",
    "    print(col + f\" ({str(df[col].nunique())}): {df[col].unique()}\")\n",
    "\n",
    "# All ordinals\n",
    "ordinal.extend(candidates)"
   ]
  },
  {
   "cell_type": "markdown",
   "metadata": {},
   "source": [
    "### Try to find some more categorical ones / ordinals with gaps:"
   ]
  },
  {
   "cell_type": "code",
   "execution_count": 146,
   "metadata": {},
   "outputs": [
    {
     "name": "stdout",
     "output_type": "stream",
     "text": [
      "delinq_2yrs (15): [ 0.  1.  2.  5.  3.  4.  8.  6. 16.  7.  9. 13. 12. 11. 10.]\n",
      "acc_open_past_24mths (27): [12.  4.  6.  9.  1.  5.  2.  3.  7. 11.  0. 10.  8. 23. 18. 13. 14. 17.\n",
      " 15. 16. 19. 20. 22. 21. 28. 24. 37.]\n",
      "delinq_amnt (29): [0.0000e+00 1.8380e+03 1.5765e+04 1.8200e+03 2.5000e+01 5.6800e+02\n",
      " 6.0000e+01 3.5300e+02 1.0040e+03 4.5000e+01 1.8778e+04 3.3000e+01\n",
      " 7.9800e+02 5.9000e+01 1.8700e+02 6.3800e+02 3.6787e+04 3.7300e+02\n",
      " 4.1000e+01 3.7000e+01 3.2300e+02 7.8000e+01 1.0370e+03 7.0000e+01\n",
      " 5.7000e+01 2.0000e+00 2.7000e+01 7.3000e+01 5.3000e+01]\n",
      "mort_acc (17): [ 1.  5.  0.  2.  3.  4.  7.  8.  6.  9. 10. 11. 12. 17. 46. 13. 14.]\n",
      "num_accts_ever_120_pd (22): [ 1.  0.  2.  7.  3. 10.  4.  8.  9.  5.  6. 16. 12. 14. 11. 27. 23. 15.\n",
      " 22. 25. 13. 17.]\n",
      "num_actv_bc_tl (22): [11.  4.  3. 10.  6.  1.  2.  5.  7.  8. 16.  9. 12. 18.  0. 14. 23. 13.\n",
      " 15. 29. 17. 19.]\n",
      "num_bc_sats (28): [12.  5.  4. 11.  6.  1.  2.  9.  3.  7.  8. 10. 16. 14. 17. 15. 19. 13.\n",
      " 18. 34. 25. 20. 22. 32. 21. 24. 23.  0.]\n",
      "num_rev_tl_bal_gt_0 (30): [11. 12.  3. 17.  9.  7.  1.  6.  5.  8.  4.  2. 14. 10. 19. 13. 15. 16.\n",
      " 26.  0. 18. 35. 21. 20. 22. 23. 25. 24. 28. 42.]\n",
      "pub_rec_bankruptcies (7): [0. 1. 2. 3. 7. 4. 6.]\n"
     ]
    }
   ],
   "source": [
    "remaining = [col for col in float_cols if not col in ordinal and not col in categorical and not col in binary]\n",
    "candidates = [col for col in remaining if df[col].nunique() <= 30 and max(df[col])]\n",
    "numeric.extend([col for col in remaining if col not in candidates]) # more than 100 values, too much to handle categorical\n",
    "\n",
    "for col in candidates:\n",
    "    print(col + f\" ({str(df[col].nunique())}): {df[col].unique() if df[col].nunique() <= 30 else \"-\"}\")\n",
    "\n",
    "# Add delinq_amnt as numeric (large value range)\n",
    "candidates.remove(\"delinq_amnt\")\n",
    "numeric.append(\"delinq_amnt\")\n",
    "\n",
    "# Add the remaining as ordinal\n",
    "ordinal.extend(candidates)"
   ]
  },
  {
   "cell_type": "code",
   "execution_count": 147,
   "metadata": {},
   "outputs": [
    {
     "data": {
      "text/plain": [
       "False"
      ]
     },
     "execution_count": 147,
     "metadata": {},
     "output_type": "execute_result"
    }
   ],
   "source": [
    "df = df.astype({col: \"category\" for col in binary})\n",
    "df = df.astype({col: \"category\" for col in categorical})\n",
    "df = df.astype({col: \"int\" for col in ordinal})\n",
    "df = df.astype({col: \"float\" for col in numeric})\n",
    "\n",
    "[col for col in columns if not col in ordinal and not col in categorical and not col in numeric and not col in binary] == []"
   ]
  },
  {
   "cell_type": "code",
   "execution_count": 148,
   "metadata": {},
   "outputs": [
    {
     "name": "stdout",
     "output_type": "stream",
     "text": [
      "term (2): [' 36 months', ' 60 months']\n",
      "Categories (2, object): [' 36 months', ' 60 months']\n",
      "pymnt_plan (2): ['n', 'y']\n",
      "Categories (2, object): ['n', 'y']\n",
      "initial_list_status (2): ['w', 'f']\n",
      "Categories (2, object): ['f', 'w']\n",
      "application_type (2): ['Individual', 'Joint App']\n",
      "Categories (2, object): ['Individual', 'Joint App']\n",
      "hardship_flag (2): ['N', 'Y']\n",
      "Categories (2, object): ['N', 'Y']\n",
      "disbursement_method (2): ['Cash', 'DirectPay']\n",
      "Categories (2, object): ['Cash', 'DirectPay']\n",
      "debt_settlement_flag (2): ['N', 'Y']\n",
      "Categories (2, object): ['N', 'Y']\n",
      "num_tl_120dpd_2m (2): [0.0, 1.0]\n",
      "Categories (2, float64): [0.0, 1.0]\n",
      "8\n"
     ]
    }
   ],
   "source": [
    "#Binary\n",
    "for col in binary:\n",
    "    print(col + f\" ({str(df[col].nunique())}): {df[col].unique() if df[col].nunique() <= 30 else \"-\"}\")\n",
    "print(len(binary))"
   ]
  },
  {
   "cell_type": "code",
   "execution_count": 149,
   "metadata": {},
   "outputs": [
    {
     "name": "stdout",
     "output_type": "stream",
     "text": [
      "home_ownership (5): ['MORTGAGE', 'RENT', 'OWN', 'ANY', 'OTHER']\n",
      "Categories (5, object): ['ANY', 'MORTGAGE', 'OTHER', 'OWN', 'RENT']\n",
      "verification_status (3): ['Not Verified', 'Source Verified', 'Verified']\n",
      "Categories (3, object): ['Not Verified', 'Source Verified', 'Verified']\n",
      "loan_status (6): ['Current', 'Fully Paid', 'Charged Off', 'Late (31-120 days)', 'In Grace Period', 'Late (16-30 days)']\n",
      "Categories (6, object): ['Charged Off', 'Current', 'Fully Paid', 'In Grace Period', 'Late (16-30 days)', 'Late (31-120 days)']\n",
      "purpose (13): ['debt_consolidation', 'car', 'credit_card', 'other', 'major_purchase', ..., 'vacation', 'moving', 'house', 'renewable_energy', 'wedding']\n",
      "Length: 13\n",
      "Categories (13, object): ['car', 'credit_card', 'debt_consolidation', 'home_improvement', ..., 'renewable_energy', 'small_business', 'vacation', 'wedding']\n",
      "addr_state (50): -\n",
      "5\n"
     ]
    }
   ],
   "source": [
    "# Categorical\n",
    "for col in categorical:\n",
    "    print(col + f\" ({str(df[col].nunique())}): {df[col].unique() if df[col].nunique() <= 30 else \"-\"}\")\n",
    "\n",
    "print(len(categorical))"
   ]
  },
  {
   "cell_type": "code",
   "execution_count": 150,
   "metadata": {},
   "outputs": [
    {
     "name": "stdout",
     "output_type": "stream",
     "text": [
      "emp_length (11): [ 0  1  9 10  3  4  7  2  5  6  8]\n",
      "issue_d_month (12): [ 6 10  9  0 11  4  3  5  1  7  8  2]\n",
      "issue_d_year (7): [2018 2015 2017 2016 2014 2013 2012]\n",
      "earliest_cr_line_month (12): [ 6  9 10  0 11  7  3  4  1  8  5  2]\n",
      "earliest_cr_line_year (51): -\n",
      "last_pymnt_d_month (12): [ 2  1  6  3  7 10  4  5  0 11  8  9]\n",
      "last_pymnt_d_year (8): [2019 2018 2016 2017 2014 2015 2013 2012]\n",
      "last_credit_pull_d_month (12): [ 2 11  9  3  0  7  1  4 10  6  5  8]\n",
      "last_credit_pull_d_year (8): [2019 2018 2017 2016 2014 2015 2013 2012]\n",
      "inq_last_6mths (7): [1 0 3 2 5 4 6]\n",
      "pub_rec (8): [0 1 2 3 4 5 6 7]\n",
      "collections_12_mths_ex_med (4): [0 1 2 3]\n",
      "acc_now_delinq (3): [0 1 2]\n",
      "chargeoff_within_12_mths (4): [0 2 1 3]\n",
      "mths_since_recent_inq (25): [ 3  4  0  5  8 11  7 10  1 14 21 13 19 12 18  6  2 15 22 20  9 17 16 24\n",
      " 23]\n",
      "num_tl_30dpd (3): [0 1 2]\n",
      "num_tl_90g_dpd_24m (11): [ 0  1  2  3  6  4  5  8 10  7  9]\n",
      "num_tl_op_past_12m (18): [ 3  2  1  0  4  7 10  5  6  8  9 11 14 12 13 16 15 17]\n",
      "tax_liens (8): [0 1 2 3 4 5 6 7]\n",
      "delinq_2yrs (15): [ 0  1  2  5  3  4  8  6 16  7  9 13 12 11 10]\n",
      "acc_open_past_24mths (27): [12  4  6  9  1  5  2  3  7 11  0 10  8 23 18 13 14 17 15 16 19 20 22 21\n",
      " 28 24 37]\n",
      "mort_acc (17): [ 1  5  0  2  3  4  7  8  6  9 10 11 12 17 46 13 14]\n",
      "num_accts_ever_120_pd (22): [ 1  0  2  7  3 10  4  8  9  5  6 16 12 14 11 27 23 15 22 25 13 17]\n",
      "num_actv_bc_tl (22): [11  4  3 10  6  1  2  5  7  8 16  9 12 18  0 14 23 13 15 29 17 19]\n",
      "num_bc_sats (28): [12  5  4 11  6  1  2  9  3  7  8 10 16 14 17 15 19 13 18 34 25 20 22 32\n",
      " 21 24 23  0]\n",
      "num_rev_tl_bal_gt_0 (30): [11 12  3 17  9  7  1  6  5  8  4  2 14 10 19 13 15 16 26  0 18 35 21 20\n",
      " 22 23 25 24 28 42]\n",
      "pub_rec_bankruptcies (7): [0 1 2 3 7 4 6]\n",
      "27\n"
     ]
    }
   ],
   "source": [
    "# Ordinal\n",
    "for col in ordinal:\n",
    "    print(col + f\" ({str(df[col].nunique())}): {df[col].unique() if df[col].nunique() <= 30 else \"-\"}\")\n",
    "\n",
    "print(len(ordinal))"
   ]
  },
  {
   "cell_type": "code",
   "execution_count": 151,
   "metadata": {},
   "outputs": [
    {
     "name": "stdout",
     "output_type": "stream",
     "text": [
      "loan_amnt (821): -\n",
      "funded_amnt (821): -\n",
      "funded_amnt_inv (917): -\n",
      "int_rate (338): -\n",
      "installment (6421): -\n",
      "annual_inc (1292): -\n",
      "dti (3308): -\n",
      "fico_range_low (38): -\n",
      "fico_range_high (38): -\n",
      "open_acc (47): -\n",
      "revol_bal (8601): -\n",
      "revol_util (1011): -\n",
      "total_acc (85): -\n",
      "out_prncp (3996): -\n",
      "out_prncp_inv (4001): -\n",
      "total_pymnt (9915): -\n",
      "total_pymnt_inv (9891): -\n",
      "total_rec_prncp (5711): -\n",
      "total_rec_int (9797): -\n",
      "total_rec_late_fee (299): -\n",
      "recoveries (786): -\n",
      "collection_recovery_fee (767): -\n",
      "last_pymnt_amnt (8458): -\n",
      "last_fico_range_high (72): -\n",
      "last_fico_range_low (71): -\n",
      "tot_coll_amt (945): -\n",
      "tot_cur_bal (9809): -\n",
      "total_rev_hi_lim (1342): -\n",
      "avg_cur_bal (8270): -\n",
      "bc_open_to_buy (7702): -\n",
      "bc_util (1044): -\n",
      "mo_sin_old_il_acct (326): -\n",
      "mo_sin_old_rev_tl_op (502): -\n",
      "mo_sin_rcnt_rev_tl_op (126): -\n",
      "mo_sin_rcnt_tl (67): -\n",
      "mths_since_recent_bc (197): -\n",
      "num_actv_rev_tl (31): -\n",
      "num_bc_tl (38): -\n",
      "num_il_tl (64): -\n",
      "num_op_rev_tl (40): -\n",
      "num_rev_accts (61): -\n",
      "num_sats (47): -\n",
      "pct_tl_nvr_dlq (291): -\n",
      "percent_bc_gt_75 (88): -\n",
      "tot_hi_cred_lim (9564): -\n",
      "total_bal_ex_mort (9510): -\n",
      "total_bc_limit (1054): -\n",
      "total_il_high_credit_limit (8297): -\n",
      "delinq_amnt (29): [0.0000e+00 1.8380e+03 1.5765e+04 1.8200e+03 2.5000e+01 5.6800e+02\n",
      " 6.0000e+01 3.5300e+02 1.0040e+03 4.5000e+01 1.8778e+04 3.3000e+01\n",
      " 7.9800e+02 5.9000e+01 1.8700e+02 6.3800e+02 3.6787e+04 3.7300e+02\n",
      " 4.1000e+01 3.7000e+01 3.2300e+02 7.8000e+01 1.0370e+03 7.0000e+01\n",
      " 5.7000e+01 2.0000e+00 2.7000e+01 7.3000e+01 5.3000e+01]\n",
      "49\n"
     ]
    }
   ],
   "source": [
    "# Numeric\n",
    "for col in numeric:\n",
    "    print(col + f\" ({str(df[col].nunique())}): {df[col].unique() if df[col].nunique() <= 30 else \"-\"}\")\n",
    "\n",
    "print(len(numeric))"
   ]
  },
  {
   "cell_type": "code",
   "execution_count": 152,
   "metadata": {},
   "outputs": [
    {
     "name": "stdout",
     "output_type": "stream",
     "text": [
      "policy_code (1): [1.]\n"
     ]
    }
   ],
   "source": [
    "# Removed\n",
    "for col in removed:\n",
    "    print(col + f\" ({str(df[col].nunique())}): {df[col].unique() if df[col].nunique() <= 30 else \"-\"}\")"
   ]
  },
  {
   "cell_type": "code",
   "execution_count": null,
   "metadata": {},
   "outputs": [],
   "source": [
    "import os\n",
    "\n",
    "os.makedirs(\"../data_processed\", exist_ok=True)\n",
    "df.to_csv(\"../data_processed/loan-10k_lrn.csv\", index=False )\n",
    "df2.to_csv(\"../data_processed/loan-10k_tes.csv\", index=False )"
   ]
  },
  {
   "cell_type": "code",
   "execution_count": 154,
   "metadata": {},
   "outputs": [],
   "source": [
    "import pickle\n",
    "\n",
    "column_types ={\n",
    "    \"bin\": binary,\n",
    "    \"cat\": categorical,\n",
    "    \"ord\": ordinal,\n",
    "    \"cont\": numeric,\n",
    "    \"target\": \"grade\"\n",
    "}\n",
    "\n",
    "with open(\"../data_processed/loan_column_types.pkl\", \"wb\") as f:\n",
    "    pickle.dump(column_types, f)"
   ]
  },
  {
   "cell_type": "code",
   "execution_count": null,
   "metadata": {},
   "outputs": [],
   "source": []
  }
 ],
 "metadata": {
  "kernelspec": {
   "display_name": "Python 3",
   "language": "python",
   "name": "python3"
  },
  "language_info": {
   "codemirror_mode": {
    "name": "ipython",
    "version": 3
   },
   "file_extension": ".py",
   "mimetype": "text/x-python",
   "name": "python",
   "nbconvert_exporter": "python",
   "pygments_lexer": "ipython3",
   "version": "3.12.6"
  }
 },
 "nbformat": 4,
 "nbformat_minor": 2
}
