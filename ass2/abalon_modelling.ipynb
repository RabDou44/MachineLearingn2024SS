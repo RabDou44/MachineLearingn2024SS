{
 "cells": [
  {
   "cell_type": "code",
   "execution_count": 1,
   "metadata": {},
   "outputs": [],
   "source": [
    "from regression_tree import *\n",
    "from random_forest import RandomForest\n",
    "from RandomForestLLM import RandomForestLLM\n",
    "from utils import *\n",
    "from visualisation import visualise_results\n",
    "\n",
    "from sklearn.ensemble import RandomForestRegressor\n",
    "from sklearn.neighbors import KNeighborsRegressor\n",
    "\n",
    "import pickle\n",
    "import pandas as pd\n",
    "import numpy as np\n",
    "\n",
    "data2 = pd.read_csv('../data_processed/abalone.csv')\n",
    "pickle_file = open('../data_processed/abalone_dict.pkl', 'rb')\n",
    "feature_structure2 = pickle.load(pickle_file)\n",
    "pickle_file.close()"
   ]
  },
  {
   "cell_type": "code",
   "execution_count": 2,
   "metadata": {},
   "outputs": [
    {
     "data": {
      "text/plain": [
       "{'bin': [],\n",
       " 'cat': ['Sex'],\n",
       " 'cont': ['Length',\n",
       "  'Diameter',\n",
       "  'Height',\n",
       "  'Whole_weight',\n",
       "  'Shucked_weight',\n",
       "  'Viscera_weight',\n",
       "  'Shell_weight'],\n",
       " 'ord': [],\n",
       " 'target': 'Rings'}"
      ]
     },
     "execution_count": 2,
     "metadata": {},
     "output_type": "execute_result"
    }
   ],
   "source": [
    "feature_structure2"
   ]
  },
  {
   "cell_type": "code",
   "execution_count": 3,
   "metadata": {},
   "outputs": [],
   "source": [
    "tree_numbers = range(6, 11)\n",
    "rfX_n_tree = [ RandomForest(n_trees=t) for t in tree_numbers]\n",
    "skRF_n_tree = [ RandomForestRegressor(n_estimators=t) for t in tree_numbers]\n",
    "skKNN_n_tree = [ KNeighborsRegressor(n_neighbors=t) for t in tree_numbers]\n",
    "rfLLM_n_tree = [ RandomForestLLM(n_trees=t) for t in tree_numbers]\n",
    "\n",
    "\n",
    "tree_methods = rfX_n_tree + skRF_n_tree\n",
    "all_models_n_tree = rfX_n_tree + skRF_n_tree + skKNN_n_tree\n",
    "# tree_methods"
   ]
  },
  {
   "cell_type": "code",
   "execution_count": 4,
   "metadata": {},
   "outputs": [
    {
     "data": {
      "text/plain": [
       "{'bin': [],\n",
       " 'cat': ['Sex'],\n",
       " 'cont': ['Length',\n",
       "  'Diameter',\n",
       "  'Height',\n",
       "  'Whole_weight',\n",
       "  'Shucked_weight',\n",
       "  'Viscera_weight',\n",
       "  'Shell_weight'],\n",
       " 'ord': [],\n",
       " 'target': 'Rings'}"
      ]
     },
     "execution_count": 4,
     "metadata": {},
     "output_type": "execute_result"
    }
   ],
   "source": [
    "feature_structure2"
   ]
  },
  {
   "cell_type": "code",
   "execution_count": 5,
   "metadata": {},
   "outputs": [
    {
     "name": "stdout",
     "output_type": "stream",
     "text": [
      "[<regression_tree.TreeNode object at 0x000002057AB934D0>, <regression_tree.TreeNode object at 0x000002057AC43E00>, <regression_tree.TreeNode object at 0x000002057AC62B70>, <regression_tree.TreeNode object at 0x000002057AC81E80>, <regression_tree.TreeNode object at 0x000002057AC9C650>, <regression_tree.TreeNode object at 0x000002057ACB3500>]\n",
      "[<regression_tree.TreeNode object at 0x000002057ACD2510>, <regression_tree.TreeNode object at 0x000002057ACF2E70>, <regression_tree.TreeNode object at 0x000002057AD12240>, <regression_tree.TreeNode object at 0x000002057AADD910>, <regression_tree.TreeNode object at 0x000002057AD3D0A0>, <regression_tree.TreeNode object at 0x000002057AD5CAD0>]\n",
      "[<regression_tree.TreeNode object at 0x000002057AD7CBF0>, <regression_tree.TreeNode object at 0x000002057AD9CF20>, <regression_tree.TreeNode object at 0x000002057ADC1D30>, <regression_tree.TreeNode object at 0x000002057ADDDE20>, <regression_tree.TreeNode object at 0x000002057BDD1AF0>, <regression_tree.TreeNode object at 0x000002057BDF1E80>]\n",
      "[<regression_tree.TreeNode object at 0x000002057BE11790>, <regression_tree.TreeNode object at 0x000002057BE2D580>, <regression_tree.TreeNode object at 0x000002057BE4CEF0>, <regression_tree.TreeNode object at 0x000002057BE6C410>, <regression_tree.TreeNode object at 0x000002057BE83320>, <regression_tree.TreeNode object at 0x000002057BE9F350>]\n",
      "[<regression_tree.TreeNode object at 0x000002057BEC3800>, <regression_tree.TreeNode object at 0x000002057BEEC3B0>, <regression_tree.TreeNode object at 0x000002057BF031A0>, <regression_tree.TreeNode object at 0x000002057BF1EED0>, <regression_tree.TreeNode object at 0x000002057BF3E540>, <regression_tree.TreeNode object at 0x000002057BF5E3F0>]\n",
      "{'mse': np.float64(5.518916348128887), 'r2': np.float64(0.38591536537901927), 'timing': 40.494176149368286}\n",
      "[<regression_tree.TreeNode object at 0x000002057AD7EF60>, <regression_tree.TreeNode object at 0x000002057AC23E30>, <regression_tree.TreeNode object at 0x000002057BE12990>, <regression_tree.TreeNode object at 0x000002057BEC0C50>, <regression_tree.TreeNode object at 0x000002057ACE0DD0>, <regression_tree.TreeNode object at 0x000002057AC3BEC0>, <regression_tree.TreeNode object at 0x000002057AC4F470>]\n",
      "[<regression_tree.TreeNode object at 0x000002057AB3D940>, <regression_tree.TreeNode object at 0x000002057AC9A750>, <regression_tree.TreeNode object at 0x000002057ACAE720>, <regression_tree.TreeNode object at 0x000002057ACFEA50>, <regression_tree.TreeNode object at 0x000002057AD3EC30>, <regression_tree.TreeNode object at 0x000002057AD4AE10>, <regression_tree.TreeNode object at 0x000002057AD76300>]\n",
      "[<regression_tree.TreeNode object at 0x000002057AD7E4E0>, <regression_tree.TreeNode object at 0x000002057ADC5B80>, <regression_tree.TreeNode object at 0x000002057ADE1310>, <regression_tree.TreeNode object at 0x000002057BEE3830>, <regression_tree.TreeNode object at 0x000002057BEDF770>, <regression_tree.TreeNode object at 0x000002057BEF7080>, <regression_tree.TreeNode object at 0x000002057BF0DC70>]\n",
      "[<regression_tree.TreeNode object at 0x000002057AD96300>, <regression_tree.TreeNode object at 0x000002057BF66B40>, <regression_tree.TreeNode object at 0x000002057BF8B830>, <regression_tree.TreeNode object at 0x000002057BFB30E0>, <regression_tree.TreeNode object at 0x000002057BDC3890>, <regression_tree.TreeNode object at 0x000002057BDEF020>, <regression_tree.TreeNode object at 0x000002057BE0E5D0>]\n",
      "[<regression_tree.TreeNode object at 0x000002057AD7D670>, <regression_tree.TreeNode object at 0x000002057BE56300>, <regression_tree.TreeNode object at 0x000002057BE85430>, <regression_tree.TreeNode object at 0x000002057BE98C80>, <regression_tree.TreeNode object at 0x000002057BFC4D10>, <regression_tree.TreeNode object at 0x000002057BFE44A0>, <regression_tree.TreeNode object at 0x000002057C004D70>]\n",
      "{'mse': np.float64(5.485114155128976), 'r2': np.float64(0.40077225164797764), 'timing': 48.88610053062439}\n",
      "[<regression_tree.TreeNode object at 0x000002057ACD0C50>, <regression_tree.TreeNode object at 0x000002057AC235C0>, <regression_tree.TreeNode object at 0x000002057BE11D30>, <regression_tree.TreeNode object at 0x000002057BEC0410>, <regression_tree.TreeNode object at 0x000002057BF47FB0>, <regression_tree.TreeNode object at 0x000002057BE3EBA0>, <regression_tree.TreeNode object at 0x000002057C0249E0>, <regression_tree.TreeNode object at 0x000002057ACBC140>]\n",
      "[<regression_tree.TreeNode object at 0x000002057ACDEA20>, <regression_tree.TreeNode object at 0x000002057AC868D0>, <regression_tree.TreeNode object at 0x000002057AC32960>, <regression_tree.TreeNode object at 0x000002057AD02390>, <regression_tree.TreeNode object at 0x000002057AD1DA60>, <regression_tree.TreeNode object at 0x000002057AD5D670>, <regression_tree.TreeNode object at 0x000002057AD81760>, <regression_tree.TreeNode object at 0x000002057ADD9610>]\n",
      "[<regression_tree.TreeNode object at 0x000002057A931400>, <regression_tree.TreeNode object at 0x000002057ADCCCE0>, <regression_tree.TreeNode object at 0x000002057BDC0AD0>, <regression_tree.TreeNode object at 0x000002057BDE82C0>, <regression_tree.TreeNode object at 0x000002057BE0BF50>, <regression_tree.TreeNode object at 0x000002057BE27200>, <regression_tree.TreeNode object at 0x000002057BE5EDB0>, <regression_tree.TreeNode object at 0x000002057BE75F40>]\n",
      "[<regression_tree.TreeNode object at 0x000002057BF45D00>, <regression_tree.TreeNode object at 0x000002057BF29010>, <regression_tree.TreeNode object at 0x000002057BEE49E0>, <regression_tree.TreeNode object at 0x000002057BF04D10>, <regression_tree.TreeNode object at 0x000002057BF24620>, <regression_tree.TreeNode object at 0x000002057BF5FB00>, <regression_tree.TreeNode object at 0x000002057BF74920>, <regression_tree.TreeNode object at 0x000002057BF68950>]\n",
      "[<regression_tree.TreeNode object at 0x000002057ADA9C70>, <regression_tree.TreeNode object at 0x000002057BFD9A00>, <regression_tree.TreeNode object at 0x000002057C0015B0>, <regression_tree.TreeNode object at 0x000002057C01D100>, <regression_tree.TreeNode object at 0x000002057C041550>, <regression_tree.TreeNode object at 0x000002057C061040>, <regression_tree.TreeNode object at 0x000002057C07CD70>, <regression_tree.TreeNode object at 0x000002057C09D0A0>]\n",
      "{'mse': np.float64(5.33695257047303), 'r2': np.float64(0.41663637012146604), 'timing': 60.87321352958679}\n",
      "[<regression_tree.TreeNode object at 0x000002057BECB950>, <regression_tree.TreeNode object at 0x000002057BF7E3C0>, <regression_tree.TreeNode object at 0x000002057BEC2060>, <regression_tree.TreeNode object at 0x000002057C027410>, <regression_tree.TreeNode object at 0x000002057BF45040>, <regression_tree.TreeNode object at 0x000002057BE11E20>, <regression_tree.TreeNode object at 0x000002057ACDFDA0>, <regression_tree.TreeNode object at 0x000002057BE95B50>, <regression_tree.TreeNode object at 0x000002057ADAA5D0>]\n",
      "[<regression_tree.TreeNode object at 0x000002057ACDE5D0>, <regression_tree.TreeNode object at 0x000002057AC95160>, <regression_tree.TreeNode object at 0x000002057ACF2A50>, <regression_tree.TreeNode object at 0x000002057AD06F60>, <regression_tree.TreeNode object at 0x000002057AD43830>, <regression_tree.TreeNode object at 0x000002057AD2FE90>, <regression_tree.TreeNode object at 0x000002057AD88140>, <regression_tree.TreeNode object at 0x000002057ADB3B60>, <regression_tree.TreeNode object at 0x000002057ADCCDA0>]\n",
      "[<regression_tree.TreeNode object at 0x000002057C0BE0C0>, <regression_tree.TreeNode object at 0x000002057BED2030>, <regression_tree.TreeNode object at 0x000002057BF11DC0>, <regression_tree.TreeNode object at 0x000002057BF3D8B0>, <regression_tree.TreeNode object at 0x000002057BF393A0>, <regression_tree.TreeNode object at 0x000002057BF4FDD0>, <regression_tree.TreeNode object at 0x000002057BF88260>, <regression_tree.TreeNode object at 0x000002057BE37F80>, <regression_tree.TreeNode object at 0x000002057BDCC200>]\n",
      "[<regression_tree.TreeNode object at 0x000002057BFB92B0>, <regression_tree.TreeNode object at 0x000002057BDE7D70>, <regression_tree.TreeNode object at 0x000002057BE56F60>, <regression_tree.TreeNode object at 0x000002057BE77230>, <regression_tree.TreeNode object at 0x000002057BE9AB40>, <regression_tree.TreeNode object at 0x000002057BEB2BD0>, <regression_tree.TreeNode object at 0x000002057BFD5EE0>, <regression_tree.TreeNode object at 0x000002057BFCDDF0>, <regression_tree.TreeNode object at 0x000002057C0162A0>]\n",
      "[<regression_tree.TreeNode object at 0x000002057C02E480>, <regression_tree.TreeNode object at 0x000002057C05E960>, <regression_tree.TreeNode object at 0x000002057C07A330>, <regression_tree.TreeNode object at 0x000002057C0861E0>, <regression_tree.TreeNode object at 0x000002057C0C2150>, <regression_tree.TreeNode object at 0x000002057C0E2A80>, <regression_tree.TreeNode object at 0x000002057C108AA0>, <regression_tree.TreeNode object at 0x000002057C124650>, <regression_tree.TreeNode object at 0x000002057C13BC80>]\n",
      "{'mse': np.float64(5.369472311705973), 'r2': np.float64(0.41782282044249053), 'timing': 64.22012400627136}\n",
      "[<regression_tree.TreeNode object at 0x000002057AC20350>, <regression_tree.TreeNode object at 0x000002057BF7D6D0>, <regression_tree.TreeNode object at 0x000002057BE3E000>, <regression_tree.TreeNode object at 0x000002057ACD1AF0>, <regression_tree.TreeNode object at 0x000002057BF6D460>, <regression_tree.TreeNode object at 0x000002057ADAAE40>, <regression_tree.TreeNode object at 0x000002057BF45190>, <regression_tree.TreeNode object at 0x000002057BEC1B20>, <regression_tree.TreeNode object at 0x000002057AD7C1D0>, <regression_tree.TreeNode object at 0x000002057ACDD580>]\n",
      "[<regression_tree.TreeNode object at 0x000002057ADA9B80>, <regression_tree.TreeNode object at 0x000002057C159F10>, <regression_tree.TreeNode object at 0x000002057BDC1460>, <regression_tree.TreeNode object at 0x000002057BDC4D10>, <regression_tree.TreeNode object at 0x000002057BDE6C00>, <regression_tree.TreeNode object at 0x000002057BE1B950>, <regression_tree.TreeNode object at 0x000002057BE53860>, <regression_tree.TreeNode object at 0x000002057BE88530>, <regression_tree.TreeNode object at 0x000002057BEB4920>, <regression_tree.TreeNode object at 0x000002057ACF4470>]\n",
      "[<regression_tree.TreeNode object at 0x000002057AD3C200>, <regression_tree.TreeNode object at 0x000002057AD504A0>, <regression_tree.TreeNode object at 0x000002057AD6BEF0>, <regression_tree.TreeNode object at 0x000002057AD9BEC0>, <regression_tree.TreeNode object at 0x000002057ADC38F0>, <regression_tree.TreeNode object at 0x000002057ADD37A0>, <regression_tree.TreeNode object at 0x000002057BF579B0>, <regression_tree.TreeNode object at 0x000002057BED32C0>, <regression_tree.TreeNode object at 0x000002057BF13650>, <regression_tree.TreeNode object at 0x000002057BF19B80>]\n",
      "[<regression_tree.TreeNode object at 0x000002057BFB9C10>, <regression_tree.TreeNode object at 0x000002057BF58B60>, <regression_tree.TreeNode object at 0x000002057BF68C50>, <regression_tree.TreeNode object at 0x000002057BFB0620>, <regression_tree.TreeNode object at 0x000002057BFD05F0>, <regression_tree.TreeNode object at 0x000002057BFCE3F0>, <regression_tree.TreeNode object at 0x000002057C01F530>, <regression_tree.TreeNode object at 0x000002057C03B320>, <regression_tree.TreeNode object at 0x000002057C069D60>, <regression_tree.TreeNode object at 0x000002057C067B60>]\n",
      "[<regression_tree.TreeNode object at 0x000002057C083AD0>, <regression_tree.TreeNode object at 0x000002057C0CB770>, <regression_tree.TreeNode object at 0x000002057C0EBD40>, <regression_tree.TreeNode object at 0x000002057C103EF0>, <regression_tree.TreeNode object at 0x000002057C13B560>, <regression_tree.TreeNode object at 0x000002057C1611F0>, <regression_tree.TreeNode object at 0x000002057C17D220>, <regression_tree.TreeNode object at 0x000002057C19D070>, <regression_tree.TreeNode object at 0x000002057C1BC6E0>, <regression_tree.TreeNode object at 0x000002057C1DC650>]\n",
      "{'mse': np.float64(5.274762770145531), 'r2': np.float64(0.4202851414927231), 'timing': 74.70703935623169}\n",
      "{'mse': np.float64(5.813124779149834), 'r2': np.float64(0.3576541742270066), 'timing': 0.4697730541229248}\n",
      "{'mse': np.float64(5.839510573618898), 'r2': np.float64(0.35456005769779564), 'timing': 0.5115835666656494}\n",
      "{'mse': np.float64(5.705834298806693), 'r2': np.float64(0.3700709707782466), 'timing': 0.5819690227508545}\n",
      "{'mse': np.float64(5.507267053700503), 'r2': np.float64(0.3899248651598116), 'timing': 0.6333820819854736}\n",
      "{'mse': np.float64(5.453982749333869), 'r2': np.float64(0.3978426222855399), 'timing': 0.7063672542572021}\n"
     ]
    }
   ],
   "source": [
    "res_rfX_n_tree = evaluate_models(data2, feature_structure2, tree_methods)\n"
   ]
  },
  {
   "cell_type": "code",
   "execution_count": 12,
   "metadata": {},
   "outputs": [
    {
     "ename": "TypeError",
     "evalue": "unhashable type: 'list'",
     "output_type": "error",
     "traceback": [
      "\u001b[1;31m---------------------------------------------------------------------------\u001b[0m",
      "\u001b[1;31mTypeError\u001b[0m                                 Traceback (most recent call last)",
      "Cell \u001b[1;32mIn[12], line 1\u001b[0m\n\u001b[1;32m----> 1\u001b[0m \u001b[43mvisualise_results\u001b[49m\u001b[43m(\u001b[49m\u001b[43mres_rfX_n_tree\u001b[49m\u001b[43m,\u001b[49m\u001b[43m \u001b[49m\u001b[43mmetrics\u001b[49m\u001b[38;5;241;43m=\u001b[39;49m\u001b[43m[\u001b[49m\u001b[38;5;124;43m\"\u001b[39;49m\u001b[38;5;124;43mmse\u001b[39;49m\u001b[38;5;124;43m\"\u001b[39;49m\u001b[43m,\u001b[49m\u001b[38;5;124;43m\"\u001b[39;49m\u001b[38;5;124;43mr2\u001b[39;49m\u001b[38;5;124;43m\"\u001b[39;49m\u001b[43m,\u001b[49m\u001b[38;5;124;43m\"\u001b[39;49m\u001b[38;5;124;43mtiming\u001b[39;49m\u001b[38;5;124;43m\"\u001b[39;49m\u001b[43m]\u001b[49m\u001b[43m)\u001b[49m\n",
      "File \u001b[1;32mc:\\Users\\Adam\\Documents\\TUWien\\2024WS\\MachineLearning\\MachineLearingn2024SS\\ass2\\visualisation.py:16\u001b[0m, in \u001b[0;36mvisualise_results\u001b[1;34m(results_df, metrics, print_results, save, folder_name)\u001b[0m\n\u001b[0;32m      9\u001b[0m \u001b[38;5;250m\u001b[39m\u001b[38;5;124;03m\"\"\"Visualise the results of the model\u001b[39;00m\n\u001b[0;32m     10\u001b[0m \u001b[38;5;124;03m\u001b[39;00m\n\u001b[0;32m     11\u001b[0m \u001b[38;5;124;03mKeyword arguments:\u001b[39;00m\n\u001b[0;32m     12\u001b[0m \u001b[38;5;124;03margument -- description\u001b[39;00m\n\u001b[0;32m     13\u001b[0m \u001b[38;5;124;03mReturn: return_description\u001b[39;00m\n\u001b[0;32m     14\u001b[0m \u001b[38;5;124;03m\"\"\"\u001b[39;00m\n\u001b[0;32m     15\u001b[0m results_df \u001b[38;5;241m=\u001b[39m results_df\u001b[38;5;241m.\u001b[39mcopy()\n\u001b[1;32m---> 16\u001b[0m \u001b[38;5;28;01mif\u001b[39;00m \u001b[43mmetrics\u001b[49m\u001b[43m \u001b[49m\u001b[38;5;129;43;01min\u001b[39;49;00m\u001b[43m \u001b[49m\u001b[43mresults_df\u001b[49m\u001b[38;5;241;43m.\u001b[39;49m\u001b[43mcolumns\u001b[49m:\n\u001b[0;32m     17\u001b[0m     metrics \u001b[38;5;241m=\u001b[39m [metrics]\n\u001b[0;32m     18\u001b[0m \u001b[38;5;28;01melse\u001b[39;00m:\n",
      "File \u001b[1;32mc:\\Users\\Adam\\Documents\\TUWien\\2024WS\\MachineLearning\\MachineLearingn2024SS\\venv\\Lib\\site-packages\\pandas\\core\\indexes\\base.py:5358\u001b[0m, in \u001b[0;36mIndex.__contains__\u001b[1;34m(self, key)\u001b[0m\n\u001b[0;32m   5323\u001b[0m \u001b[38;5;28;01mdef\u001b[39;00m \u001b[38;5;21m__contains__\u001b[39m(\u001b[38;5;28mself\u001b[39m, key: Any) \u001b[38;5;241m-\u001b[39m\u001b[38;5;241m>\u001b[39m \u001b[38;5;28mbool\u001b[39m:\n\u001b[0;32m   5324\u001b[0m \u001b[38;5;250m    \u001b[39m\u001b[38;5;124;03m\"\"\"\u001b[39;00m\n\u001b[0;32m   5325\u001b[0m \u001b[38;5;124;03m    Return a boolean indicating whether the provided key is in the index.\u001b[39;00m\n\u001b[0;32m   5326\u001b[0m \n\u001b[1;32m   (...)\u001b[0m\n\u001b[0;32m   5356\u001b[0m \u001b[38;5;124;03m    False\u001b[39;00m\n\u001b[0;32m   5357\u001b[0m \u001b[38;5;124;03m    \"\"\"\u001b[39;00m\n\u001b[1;32m-> 5358\u001b[0m     \u001b[38;5;28;43mhash\u001b[39;49m\u001b[43m(\u001b[49m\u001b[43mkey\u001b[49m\u001b[43m)\u001b[49m\n\u001b[0;32m   5359\u001b[0m     \u001b[38;5;28;01mtry\u001b[39;00m:\n\u001b[0;32m   5360\u001b[0m         \u001b[38;5;28;01mreturn\u001b[39;00m key \u001b[38;5;129;01min\u001b[39;00m \u001b[38;5;28mself\u001b[39m\u001b[38;5;241m.\u001b[39m_engine\n",
      "\u001b[1;31mTypeError\u001b[0m: unhashable type: 'list'"
     ]
    }
   ],
   "source": [
    "visualise_results(res_rfX_n_tree, metrics=[\"mse\",\"r2\",\"timing\"])"
   ]
  },
  {
   "cell_type": "code",
   "execution_count": 10,
   "metadata": {},
   "outputs": [
    {
     "data": {
      "text/html": [
       "<div>\n",
       "<style scoped>\n",
       "    .dataframe tbody tr th:only-of-type {\n",
       "        vertical-align: middle;\n",
       "    }\n",
       "\n",
       "    .dataframe tbody tr th {\n",
       "        vertical-align: top;\n",
       "    }\n",
       "\n",
       "    .dataframe thead th {\n",
       "        text-align: right;\n",
       "    }\n",
       "</style>\n",
       "<table border=\"1\" class=\"dataframe\">\n",
       "  <thead>\n",
       "    <tr style=\"text-align: right;\">\n",
       "      <th></th>\n",
       "      <th>model</th>\n",
       "      <th>mse</th>\n",
       "      <th>r2</th>\n",
       "      <th>timing</th>\n",
       "    </tr>\n",
       "  </thead>\n",
       "  <tbody>\n",
       "    <tr>\n",
       "      <th>0</th>\n",
       "      <td>RandomForest(n_trees=6)_CV</td>\n",
       "      <td>5.518916</td>\n",
       "      <td>0.385915</td>\n",
       "      <td>40.494176</td>\n",
       "    </tr>\n",
       "    <tr>\n",
       "      <th>1</th>\n",
       "      <td>RandomForest(n_trees=7)_CV</td>\n",
       "      <td>5.485114</td>\n",
       "      <td>0.400772</td>\n",
       "      <td>48.886101</td>\n",
       "    </tr>\n",
       "    <tr>\n",
       "      <th>2</th>\n",
       "      <td>RandomForest(n_trees=8)_CV</td>\n",
       "      <td>5.336953</td>\n",
       "      <td>0.416636</td>\n",
       "      <td>60.873214</td>\n",
       "    </tr>\n",
       "    <tr>\n",
       "      <th>3</th>\n",
       "      <td>RandomForest(n_trees=9)_CV</td>\n",
       "      <td>5.369472</td>\n",
       "      <td>0.417823</td>\n",
       "      <td>64.220124</td>\n",
       "    </tr>\n",
       "    <tr>\n",
       "      <th>4</th>\n",
       "      <td>RandomForest(n_trees=10)_CV</td>\n",
       "      <td>5.274763</td>\n",
       "      <td>0.420285</td>\n",
       "      <td>74.707039</td>\n",
       "    </tr>\n",
       "    <tr>\n",
       "      <th>5</th>\n",
       "      <td>RandomForestRegressor(n_estimators=6)_CV</td>\n",
       "      <td>5.813125</td>\n",
       "      <td>0.357654</td>\n",
       "      <td>0.469773</td>\n",
       "    </tr>\n",
       "    <tr>\n",
       "      <th>6</th>\n",
       "      <td>RandomForestRegressor(n_estimators=7)_CV</td>\n",
       "      <td>5.839511</td>\n",
       "      <td>0.354560</td>\n",
       "      <td>0.511584</td>\n",
       "    </tr>\n",
       "    <tr>\n",
       "      <th>7</th>\n",
       "      <td>RandomForestRegressor(n_estimators=8)_CV</td>\n",
       "      <td>5.705834</td>\n",
       "      <td>0.370071</td>\n",
       "      <td>0.581969</td>\n",
       "    </tr>\n",
       "    <tr>\n",
       "      <th>8</th>\n",
       "      <td>RandomForestRegressor(n_estimators=9)_CV</td>\n",
       "      <td>5.507267</td>\n",
       "      <td>0.389925</td>\n",
       "      <td>0.633382</td>\n",
       "    </tr>\n",
       "    <tr>\n",
       "      <th>9</th>\n",
       "      <td>RandomForestRegressor(n_estimators=10)_CV</td>\n",
       "      <td>5.453983</td>\n",
       "      <td>0.397843</td>\n",
       "      <td>0.706367</td>\n",
       "    </tr>\n",
       "  </tbody>\n",
       "</table>\n",
       "</div>"
      ],
      "text/plain": [
       "                                       model       mse        r2     timing\n",
       "0                 RandomForest(n_trees=6)_CV  5.518916  0.385915  40.494176\n",
       "1                 RandomForest(n_trees=7)_CV  5.485114  0.400772  48.886101\n",
       "2                 RandomForest(n_trees=8)_CV  5.336953  0.416636  60.873214\n",
       "3                 RandomForest(n_trees=9)_CV  5.369472  0.417823  64.220124\n",
       "4                RandomForest(n_trees=10)_CV  5.274763  0.420285  74.707039\n",
       "5   RandomForestRegressor(n_estimators=6)_CV  5.813125  0.357654   0.469773\n",
       "6   RandomForestRegressor(n_estimators=7)_CV  5.839511  0.354560   0.511584\n",
       "7   RandomForestRegressor(n_estimators=8)_CV  5.705834  0.370071   0.581969\n",
       "8   RandomForestRegressor(n_estimators=9)_CV  5.507267  0.389925   0.633382\n",
       "9  RandomForestRegressor(n_estimators=10)_CV  5.453983  0.397843   0.706367"
      ]
     },
     "execution_count": 10,
     "metadata": {},
     "output_type": "execute_result"
    }
   ],
   "source": [
    "res_rfX_n_tree\n"
   ]
  },
  {
   "cell_type": "code",
   "execution_count": 11,
   "metadata": {},
   "outputs": [
    {
     "data": {
      "text/html": [
       "<div>\n",
       "<style scoped>\n",
       "    .dataframe tbody tr th:only-of-type {\n",
       "        vertical-align: middle;\n",
       "    }\n",
       "\n",
       "    .dataframe tbody tr th {\n",
       "        vertical-align: top;\n",
       "    }\n",
       "\n",
       "    .dataframe thead th {\n",
       "        text-align: right;\n",
       "    }\n",
       "</style>\n",
       "<table border=\"1\" class=\"dataframe\">\n",
       "  <thead>\n",
       "    <tr style=\"text-align: right;\">\n",
       "      <th></th>\n",
       "      <th>model</th>\n",
       "      <th>timing</th>\n",
       "    </tr>\n",
       "  </thead>\n",
       "  <tbody>\n",
       "    <tr>\n",
       "      <th>0</th>\n",
       "      <td>RandomForest(n_trees=6)_CV</td>\n",
       "      <td>40.494176</td>\n",
       "    </tr>\n",
       "    <tr>\n",
       "      <th>1</th>\n",
       "      <td>RandomForest(n_trees=7)_CV</td>\n",
       "      <td>48.886101</td>\n",
       "    </tr>\n",
       "    <tr>\n",
       "      <th>2</th>\n",
       "      <td>RandomForest(n_trees=8)_CV</td>\n",
       "      <td>60.873214</td>\n",
       "    </tr>\n",
       "    <tr>\n",
       "      <th>3</th>\n",
       "      <td>RandomForest(n_trees=9)_CV</td>\n",
       "      <td>64.220124</td>\n",
       "    </tr>\n",
       "    <tr>\n",
       "      <th>4</th>\n",
       "      <td>RandomForest(n_trees=10)_CV</td>\n",
       "      <td>74.707039</td>\n",
       "    </tr>\n",
       "    <tr>\n",
       "      <th>5</th>\n",
       "      <td>RandomForestRegressor(n_estimators=6)_CV</td>\n",
       "      <td>0.469773</td>\n",
       "    </tr>\n",
       "    <tr>\n",
       "      <th>6</th>\n",
       "      <td>RandomForestRegressor(n_estimators=7)_CV</td>\n",
       "      <td>0.511584</td>\n",
       "    </tr>\n",
       "    <tr>\n",
       "      <th>7</th>\n",
       "      <td>RandomForestRegressor(n_estimators=8)_CV</td>\n",
       "      <td>0.581969</td>\n",
       "    </tr>\n",
       "    <tr>\n",
       "      <th>8</th>\n",
       "      <td>RandomForestRegressor(n_estimators=9)_CV</td>\n",
       "      <td>0.633382</td>\n",
       "    </tr>\n",
       "    <tr>\n",
       "      <th>9</th>\n",
       "      <td>RandomForestRegressor(n_estimators=10)_CV</td>\n",
       "      <td>0.706367</td>\n",
       "    </tr>\n",
       "  </tbody>\n",
       "</table>\n",
       "</div>"
      ],
      "text/plain": [
       "                                       model     timing\n",
       "0                 RandomForest(n_trees=6)_CV  40.494176\n",
       "1                 RandomForest(n_trees=7)_CV  48.886101\n",
       "2                 RandomForest(n_trees=8)_CV  60.873214\n",
       "3                 RandomForest(n_trees=9)_CV  64.220124\n",
       "4                RandomForest(n_trees=10)_CV  74.707039\n",
       "5   RandomForestRegressor(n_estimators=6)_CV   0.469773\n",
       "6   RandomForestRegressor(n_estimators=7)_CV   0.511584\n",
       "7   RandomForestRegressor(n_estimators=8)_CV   0.581969\n",
       "8   RandomForestRegressor(n_estimators=9)_CV   0.633382\n",
       "9  RandomForestRegressor(n_estimators=10)_CV   0.706367"
      ]
     },
     "execution_count": 11,
     "metadata": {},
     "output_type": "execute_result"
    }
   ],
   "source": [
    "res_rfX_n_tree[['model','timing']]"
   ]
  }
 ],
 "metadata": {
  "kernelspec": {
   "display_name": "venv",
   "language": "python",
   "name": "python3"
  },
  "language_info": {
   "codemirror_mode": {
    "name": "ipython",
    "version": 3
   },
   "file_extension": ".py",
   "mimetype": "text/x-python",
   "name": "python",
   "nbconvert_exporter": "python",
   "pygments_lexer": "ipython3",
   "version": "3.12.0"
  }
 },
 "nbformat": 4,
 "nbformat_minor": 2
}
