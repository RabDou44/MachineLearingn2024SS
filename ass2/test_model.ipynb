{
 "cells": [
  {
   "cell_type": "code",
   "execution_count": 1,
   "metadata": {},
   "outputs": [
    {
     "data": {
      "text/plain": [
       "0     45000\n",
       "6    500000\n",
       "5    300000\n",
       "8     80000\n",
       "4    200000\n",
       "1     50000\n",
       "2     60000\n",
       "Name: Salary, dtype: int64"
      ]
     },
     "execution_count": 1,
     "metadata": {},
     "output_type": "execute_result"
    }
   ],
   "source": [
    "import pandas as pd\n",
    "from sklearn.model_selection import train_test_split\n",
    "\n",
    "df = pd.read_csv('../data/our/ass2-test-dataset-salary.csv')\n",
    "df = pd.get_dummies(df, columns=['Position'])   # basically one-hot, later done in pipeline\n",
    "# df = df.rename(columns={'Salary': 'Target'})\n",
    "x = df.drop(columns=['Salary'])\n",
    "y = df['Salary']\n",
    "train_x, test_x, train_y, test_y = train_test_split(x, y, test_size=0.3)\n",
    "train_y"
   ]
  },
  {
   "cell_type": "code",
   "execution_count": null,
   "metadata": {},
   "outputs": [
    {
     "name": "stdout",
     "output_type": "stream",
     "text": [
      "[<regression_tree.TreeNode object at 0x000002485131A600>, <regression_tree.TreeNode object at 0x0000024851399B50>, <regression_tree.TreeNode object at 0x0000024851399FA0>]\n",
      "[<regression_tree.TreeNode object at 0x000002485131A600>, <regression_tree.TreeNode object at 0x00000248513998E0>, <regression_tree.TreeNode object at 0x0000024851399D00>]\n",
      "[<regression_tree.TreeNode object at 0x000002485131A600>, <regression_tree.TreeNode object at 0x00000248513998E0>, <regression_tree.TreeNode object at 0x0000024851399D00>]\n",
      "[<regression_tree.TreeNode object at 0x000002485131A600>, <regression_tree.TreeNode object at 0x00000248513998E0>, <regression_tree.TreeNode object at 0x0000024851399D00>]\n",
      "[<regression_tree.TreeNode object at 0x000002484F3ECB30>, <regression_tree.TreeNode object at 0x0000024851399D90>, <regression_tree.TreeNode object at 0x0000024851399FD0>]\n",
      "[<regression_tree.TreeNode object at 0x000002484F3ECB30>, <regression_tree.TreeNode object at 0x00000248513998B0>, <regression_tree.TreeNode object at 0x0000024851399D00>]\n",
      "[<regression_tree.TreeNode object at 0x000002484FC9B170>, <regression_tree.TreeNode object at 0x0000024851399A00>, <regression_tree.TreeNode object at 0x0000024851399CA0>]\n",
      "[<regression_tree.TreeNode object at 0x0000024850E8E240>, <regression_tree.TreeNode object at 0x00000248511AA4B0>, <regression_tree.TreeNode object at 0x0000024851399EE0>]\n"
     ]
    },
    {
     "ename": "AssertionError",
     "evalue": "Did not raise: [<class 'ValueError'>]",
     "output_type": "error",
     "traceback": [
      "\u001b[1;31m---------------------------------------------------------------------------\u001b[0m",
      "\u001b[1;31mAssertionError\u001b[0m                            Traceback (most recent call last)",
      "Cell \u001b[1;32mIn[2], line 5\u001b[0m\n\u001b[0;32m      2\u001b[0m \u001b[38;5;28;01mfrom\u001b[39;00m \u001b[38;5;21;01msklearn\u001b[39;00m\u001b[38;5;21;01m.\u001b[39;00m\u001b[38;5;21;01mutils\u001b[39;00m\u001b[38;5;21;01m.\u001b[39;00m\u001b[38;5;21;01mestimator_checks\u001b[39;00m \u001b[38;5;28;01mimport\u001b[39;00m check_estimator\n\u001b[0;32m      4\u001b[0m forest \u001b[38;5;241m=\u001b[39m RandomForest(\u001b[38;5;241m3\u001b[39m)\n\u001b[1;32m----> 5\u001b[0m \u001b[43mcheck_estimator\u001b[49m\u001b[43m(\u001b[49m\u001b[43mforest\u001b[49m\u001b[43m)\u001b[49m\n\u001b[0;32m      6\u001b[0m forest\u001b[38;5;241m.\u001b[39mfit(train_x\u001b[38;5;241m.\u001b[39mcopy(deep\u001b[38;5;241m=\u001b[39m\u001b[38;5;28;01mTrue\u001b[39;00m), train_y\u001b[38;5;241m.\u001b[39mcopy(deep\u001b[38;5;241m=\u001b[39m\u001b[38;5;28;01mTrue\u001b[39;00m))\n",
      "File \u001b[1;32mc:\\Users\\Anwender\\AppData\\Local\\Programs\\Python\\Python312\\Lib\\site-packages\\sklearn\\utils\\estimator_checks.py:650\u001b[0m, in \u001b[0;36mcheck_estimator\u001b[1;34m(estimator, generate_only)\u001b[0m\n\u001b[0;32m    648\u001b[0m \u001b[38;5;28;01mfor\u001b[39;00m estimator, check \u001b[38;5;129;01min\u001b[39;00m checks_generator():\n\u001b[0;32m    649\u001b[0m     \u001b[38;5;28;01mtry\u001b[39;00m:\n\u001b[1;32m--> 650\u001b[0m         \u001b[43mcheck\u001b[49m\u001b[43m(\u001b[49m\u001b[43mestimator\u001b[49m\u001b[43m)\u001b[49m\n\u001b[0;32m    651\u001b[0m     \u001b[38;5;28;01mexcept\u001b[39;00m SkipTest \u001b[38;5;28;01mas\u001b[39;00m exception:\n\u001b[0;32m    652\u001b[0m         \u001b[38;5;66;03m# SkipTest is thrown when pandas can't be imported, or by checks\u001b[39;00m\n\u001b[0;32m    653\u001b[0m         \u001b[38;5;66;03m# that are in the xfail_checks tag\u001b[39;00m\n\u001b[0;32m    654\u001b[0m         warnings\u001b[38;5;241m.\u001b[39mwarn(\u001b[38;5;28mstr\u001b[39m(exception), SkipTestWarning)\n",
      "File \u001b[1;32mc:\\Users\\Anwender\\AppData\\Local\\Programs\\Python\\Python312\\Lib\\site-packages\\sklearn\\utils\\estimator_checks.py:1372\u001b[0m, in \u001b[0;36mcheck_complex_data\u001b[1;34m(name, estimator_orig)\u001b[0m\n\u001b[0;32m   1370\u001b[0m estimator \u001b[38;5;241m=\u001b[39m clone(estimator_orig)\n\u001b[0;32m   1371\u001b[0m set_random_state(estimator, random_state\u001b[38;5;241m=\u001b[39m\u001b[38;5;241m0\u001b[39m)\n\u001b[1;32m-> 1372\u001b[0m \u001b[38;5;28;01mwith\u001b[39;00m \u001b[43mraises\u001b[49m\u001b[43m(\u001b[49m\u001b[38;5;167;43;01mValueError\u001b[39;49;00m\u001b[43m,\u001b[49m\u001b[43m \u001b[49m\u001b[43mmatch\u001b[49m\u001b[38;5;241;43m=\u001b[39;49m\u001b[38;5;124;43m\"\u001b[39;49m\u001b[38;5;124;43mComplex data not supported\u001b[39;49m\u001b[38;5;124;43m\"\u001b[39;49m\u001b[43m)\u001b[49m:\n\u001b[0;32m   1373\u001b[0m     estimator\u001b[38;5;241m.\u001b[39mfit(X, y)\n",
      "File \u001b[1;32mc:\\Users\\Anwender\\AppData\\Local\\Programs\\Python\\Python312\\Lib\\site-packages\\sklearn\\utils\\_testing.py:908\u001b[0m, in \u001b[0;36m_Raises.__exit__\u001b[1;34m(self, exc_type, exc_value, _)\u001b[0m\n\u001b[0;32m    906\u001b[0m     \u001b[38;5;28;01melse\u001b[39;00m:\n\u001b[0;32m    907\u001b[0m         err_msg \u001b[38;5;241m=\u001b[39m \u001b[38;5;28mself\u001b[39m\u001b[38;5;241m.\u001b[39merr_msg \u001b[38;5;129;01mor\u001b[39;00m \u001b[38;5;124mf\u001b[39m\u001b[38;5;124m\"\u001b[39m\u001b[38;5;124mDid not raise: \u001b[39m\u001b[38;5;132;01m{\u001b[39;00m\u001b[38;5;28mself\u001b[39m\u001b[38;5;241m.\u001b[39mexpected_exc_types\u001b[38;5;132;01m}\u001b[39;00m\u001b[38;5;124m\"\u001b[39m\n\u001b[1;32m--> 908\u001b[0m         \u001b[38;5;28;01mraise\u001b[39;00m \u001b[38;5;167;01mAssertionError\u001b[39;00m(err_msg)\n\u001b[0;32m    910\u001b[0m \u001b[38;5;28;01mif\u001b[39;00m \u001b[38;5;129;01mnot\u001b[39;00m \u001b[38;5;28many\u001b[39m(\n\u001b[0;32m    911\u001b[0m     \u001b[38;5;28missubclass\u001b[39m(exc_type, expected_type)\n\u001b[0;32m    912\u001b[0m     \u001b[38;5;28;01mfor\u001b[39;00m expected_type \u001b[38;5;129;01min\u001b[39;00m \u001b[38;5;28mself\u001b[39m\u001b[38;5;241m.\u001b[39mexpected_exc_types\n\u001b[0;32m    913\u001b[0m ):\n\u001b[0;32m    914\u001b[0m     \u001b[38;5;28;01mif\u001b[39;00m \u001b[38;5;28mself\u001b[39m\u001b[38;5;241m.\u001b[39merr_msg \u001b[38;5;129;01mis\u001b[39;00m \u001b[38;5;129;01mnot\u001b[39;00m \u001b[38;5;28;01mNone\u001b[39;00m:\n",
      "\u001b[1;31mAssertionError\u001b[0m: Did not raise: [<class 'ValueError'>]"
     ]
    }
   ],
   "source": [
    "from random_forest import RandomForest\n",
    "from sklearn.utils.estimator_checks import check_estimator\n",
    "\n",
    "forest = RandomForest(3)\n",
    "# check_estimator(forest)\n",
    "forest.fit(train_x.copy(deep=True), train_y.copy(deep=True))"
   ]
  },
  {
   "cell_type": "code",
   "execution_count": null,
   "metadata": {},
   "outputs": [
    {
     "name": "stdout",
     "output_type": "stream",
     "text": [
      "===\n",
      "Sample 1: Expectation = 80000\n",
      "Sample 1: Prediction = 60000.0\n",
      "===\n",
      "Sample 2: Expectation = 150000\n",
      "Sample 2: Prediction = 200000.0\n",
      "===\n",
      "Sample 3: Expectation = 110000\n",
      "Sample 3: Prediction = 60000.0\n"
     ]
    }
   ],
   "source": [
    "predictions = forest.predict(test_x)\n",
    "\n",
    "for i, res in enumerate(test_y):\n",
    "        print('===')\n",
    "        print(f\"Sample {i + 1}: Expectation = {res}\")\n",
    "        print(f\"Sample {i + 1}: Prediction = {predictions[i]}\")"
   ]
  },
  {
   "cell_type": "code",
   "execution_count": null,
   "metadata": {},
   "outputs": [
    {
     "name": "stdout",
     "output_type": "stream",
     "text": [
      "===\n",
      "Sample 1: Expectation = 80000\n",
      "Sample 1: Prediction = 103333.33333333333\n",
      "===\n",
      "Sample 2: Expectation = 150000\n",
      "Sample 2: Prediction = 233333.33333333334\n",
      "===\n",
      "Sample 3: Expectation = 110000\n",
      "Sample 3: Prediction = 153333.33333333334\n"
     ]
    }
   ],
   "source": [
    "from sklearn.ensemble import RandomForestRegressor\n",
    "\n",
    "sk_forest = RandomForestRegressor(3)\n",
    "sk_forest.fit(train_x, train_y)\n",
    "predictions = sk_forest.predict(test_x)\n",
    "\n",
    "for i, res in enumerate(test_y):\n",
    "        print('===')\n",
    "        print(f\"Sample {i + 1}: Expectation = {res}\")\n",
    "        print(f\"Sample {i + 1}: Prediction = {predictions[i]}\")"
   ]
  },
  {
   "cell_type": "code",
   "execution_count": null,
   "metadata": {},
   "outputs": [],
   "source": []
  }
 ],
 "metadata": {
  "kernelspec": {
   "display_name": "Python 3",
   "language": "python",
   "name": "python3"
  },
  "language_info": {
   "codemirror_mode": {
    "name": "ipython",
    "version": 3
   },
   "file_extension": ".py",
   "mimetype": "text/x-python",
   "name": "python",
   "nbconvert_exporter": "python",
   "pygments_lexer": "ipython3",
   "version": "3.12.6"
  }
 },
 "nbformat": 4,
 "nbformat_minor": 2
}
