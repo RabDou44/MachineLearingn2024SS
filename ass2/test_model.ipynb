{
 "cells": [
  {
   "cell_type": "code",
   "execution_count": 1,
   "metadata": {},
   "outputs": [
    {
     "data": {
      "text/plain": [
       "6     500000\n",
       "5     300000\n",
       "4     200000\n",
       "0      45000\n",
       "2      60000\n",
       "1      50000\n",
       "7    1000000\n",
       "Name: Salary, dtype: int64"
      ]
     },
     "execution_count": 1,
     "metadata": {},
     "output_type": "execute_result"
    }
   ],
   "source": [
    "import pandas as pd\n",
    "from sklearn.model_selection import train_test_split\n",
    "\n",
    "df = pd.read_csv('../data/our/ass2-test-dataset-salary.csv')\n",
    "df = pd.get_dummies(df, columns=['Position'])   # basically one-hot, later done in pipeline\n",
    "# df = df.rename(columns={'Salary': 'Target'})\n",
    "x = df.drop(columns=['Salary'])\n",
    "y = df['Salary']\n",
    "train_x, test_x, train_y, test_y = train_test_split(x, y, test_size=0.3)\n",
    "train_y"
   ]
  },
  {
   "cell_type": "code",
   "execution_count": null,
   "metadata": {},
   "outputs": [
    {
     "ename": "AttributeError",
     "evalue": "'numpy.ndarray' object has no attribute 'iloc'",
     "output_type": "error",
     "traceback": [
      "\u001b[1;31m---------------------------------------------------------------------------\u001b[0m",
      "\u001b[1;31mAttributeError\u001b[0m                            Traceback (most recent call last)",
      "Cell \u001b[1;32mIn[5], line 5\u001b[0m\n\u001b[0;32m      2\u001b[0m \u001b[38;5;28;01mfrom\u001b[39;00m \u001b[38;5;21;01msklearn\u001b[39;00m\u001b[38;5;21;01m.\u001b[39;00m\u001b[38;5;21;01mutils\u001b[39;00m\u001b[38;5;21;01m.\u001b[39;00m\u001b[38;5;21;01mestimator_checks\u001b[39;00m \u001b[38;5;28;01mimport\u001b[39;00m check_estimator\n\u001b[0;32m      4\u001b[0m forest \u001b[38;5;241m=\u001b[39m RandomForest(\u001b[38;5;241m3\u001b[39m)\n\u001b[1;32m----> 5\u001b[0m \u001b[43mcheck_estimator\u001b[49m\u001b[43m(\u001b[49m\u001b[43mforest\u001b[49m\u001b[43m)\u001b[49m\n\u001b[0;32m      6\u001b[0m forest\u001b[38;5;241m.\u001b[39mfit(train_x\u001b[38;5;241m.\u001b[39mcopy(deep\u001b[38;5;241m=\u001b[39m\u001b[38;5;28;01mTrue\u001b[39;00m), train_y\u001b[38;5;241m.\u001b[39mcopy(deep\u001b[38;5;241m=\u001b[39m\u001b[38;5;28;01mTrue\u001b[39;00m))\n",
      "File \u001b[1;32mc:\\Users\\Anwender\\AppData\\Local\\Programs\\Python\\Python312\\Lib\\site-packages\\sklearn\\utils\\estimator_checks.py:650\u001b[0m, in \u001b[0;36mcheck_estimator\u001b[1;34m(estimator, generate_only)\u001b[0m\n\u001b[0;32m    648\u001b[0m \u001b[38;5;28;01mfor\u001b[39;00m estimator, check \u001b[38;5;129;01min\u001b[39;00m checks_generator():\n\u001b[0;32m    649\u001b[0m     \u001b[38;5;28;01mtry\u001b[39;00m:\n\u001b[1;32m--> 650\u001b[0m         \u001b[43mcheck\u001b[49m\u001b[43m(\u001b[49m\u001b[43mestimator\u001b[49m\u001b[43m)\u001b[49m\n\u001b[0;32m    651\u001b[0m     \u001b[38;5;28;01mexcept\u001b[39;00m SkipTest \u001b[38;5;28;01mas\u001b[39;00m exception:\n\u001b[0;32m    652\u001b[0m         \u001b[38;5;66;03m# SkipTest is thrown when pandas can't be imported, or by checks\u001b[39;00m\n\u001b[0;32m    653\u001b[0m         \u001b[38;5;66;03m# that are in the xfail_checks tag\u001b[39;00m\n\u001b[0;32m    654\u001b[0m         warnings\u001b[38;5;241m.\u001b[39mwarn(\u001b[38;5;28mstr\u001b[39m(exception), SkipTestWarning)\n",
      "File \u001b[1;32mc:\\Users\\Anwender\\AppData\\Local\\Programs\\Python\\Python312\\Lib\\site-packages\\sklearn\\utils\\_testing.py:160\u001b[0m, in \u001b[0;36m_IgnoreWarnings.__call__.<locals>.wrapper\u001b[1;34m(*args, **kwargs)\u001b[0m\n\u001b[0;32m    158\u001b[0m \u001b[38;5;28;01mwith\u001b[39;00m warnings\u001b[38;5;241m.\u001b[39mcatch_warnings():\n\u001b[0;32m    159\u001b[0m     warnings\u001b[38;5;241m.\u001b[39msimplefilter(\u001b[38;5;124m\"\u001b[39m\u001b[38;5;124mignore\u001b[39m\u001b[38;5;124m\"\u001b[39m, \u001b[38;5;28mself\u001b[39m\u001b[38;5;241m.\u001b[39mcategory)\n\u001b[1;32m--> 160\u001b[0m     \u001b[38;5;28;01mreturn\u001b[39;00m \u001b[43mfn\u001b[49m\u001b[43m(\u001b[49m\u001b[38;5;241;43m*\u001b[39;49m\u001b[43margs\u001b[49m\u001b[43m,\u001b[49m\u001b[43m \u001b[49m\u001b[38;5;241;43m*\u001b[39;49m\u001b[38;5;241;43m*\u001b[39;49m\u001b[43mkwargs\u001b[49m\u001b[43m)\u001b[49m\n",
      "File \u001b[1;32mc:\\Users\\Anwender\\AppData\\Local\\Programs\\Python\\Python312\\Lib\\site-packages\\sklearn\\utils\\estimator_checks.py:1930\u001b[0m, in \u001b[0;36mcheck_estimators_dtypes\u001b[1;34m(name, estimator_orig)\u001b[0m\n\u001b[0;32m   1928\u001b[0m estimator \u001b[38;5;241m=\u001b[39m clone(estimator_orig)\n\u001b[0;32m   1929\u001b[0m set_random_state(estimator, \u001b[38;5;241m1\u001b[39m)\n\u001b[1;32m-> 1930\u001b[0m \u001b[43mestimator\u001b[49m\u001b[38;5;241;43m.\u001b[39;49m\u001b[43mfit\u001b[49m\u001b[43m(\u001b[49m\u001b[43mX_train\u001b[49m\u001b[43m,\u001b[49m\u001b[43m \u001b[49m\u001b[43my\u001b[49m\u001b[43m)\u001b[49m\n\u001b[0;32m   1932\u001b[0m \u001b[38;5;28;01mfor\u001b[39;00m method \u001b[38;5;129;01min\u001b[39;00m methods:\n\u001b[0;32m   1933\u001b[0m     \u001b[38;5;28;01mif\u001b[39;00m \u001b[38;5;28mhasattr\u001b[39m(estimator, method):\n",
      "File \u001b[1;32mc:\\Users\\Anwender\\Documents\\Private\\Uni\\ML\\ass2\\random_forest.py:26\u001b[0m, in \u001b[0;36mRandomForest.fit\u001b[1;34m(self, X, y)\u001b[0m\n\u001b[0;32m     23\u001b[0m \u001b[38;5;28mself\u001b[39m\u001b[38;5;241m.\u001b[39mtrees \u001b[38;5;241m=\u001b[39m []\n\u001b[0;32m     25\u001b[0m \u001b[38;5;66;03m# Generate bootstrapped datasets and train trees\u001b[39;00m\n\u001b[1;32m---> 26\u001b[0m datasets \u001b[38;5;241m=\u001b[39m \u001b[38;5;28;43mself\u001b[39;49m\u001b[38;5;241;43m.\u001b[39;49m\u001b[43mbootstrap\u001b[49m\u001b[43m(\u001b[49m\u001b[43mX\u001b[49m\u001b[43m,\u001b[49m\u001b[43my\u001b[49m\u001b[43m)\u001b[49m\n\u001b[0;32m     27\u001b[0m \u001b[38;5;28;01mfor\u001b[39;00m (X_tree, y_tree) \u001b[38;5;129;01min\u001b[39;00m datasets:\n\u001b[0;32m     28\u001b[0m     tree \u001b[38;5;241m=\u001b[39m TreeNode()\n",
      "File \u001b[1;32mc:\\Users\\Anwender\\Documents\\Private\\Uni\\ML\\ass2\\random_forest.py:50\u001b[0m, in \u001b[0;36mRandomForest.bootstrap\u001b[1;34m(self, X, y)\u001b[0m\n\u001b[0;32m     48\u001b[0m \u001b[38;5;28;01mfor\u001b[39;00m _ \u001b[38;5;129;01min\u001b[39;00m \u001b[38;5;28mrange\u001b[39m(\u001b[38;5;28mself\u001b[39m\u001b[38;5;241m.\u001b[39mn_trees):\n\u001b[0;32m     49\u001b[0m     selected \u001b[38;5;241m=\u001b[39m np\u001b[38;5;241m.\u001b[39mrandom\u001b[38;5;241m.\u001b[39mchoice(\u001b[38;5;28mlen\u001b[39m(X), size\u001b[38;5;241m=\u001b[39m\u001b[38;5;28mint\u001b[39m(\u001b[38;5;28mlen\u001b[39m(X) \u001b[38;5;241m*\u001b[39m \u001b[38;5;28mself\u001b[39m\u001b[38;5;241m.\u001b[39mbootstrap_size), replace\u001b[38;5;241m=\u001b[39m\u001b[38;5;28;01mFalse\u001b[39;00m)   \u001b[38;5;66;03m# replace=True means an element can be chosen multiple times.\u001b[39;00m\n\u001b[1;32m---> 50\u001b[0m     datasets\u001b[38;5;241m.\u001b[39mappend((\u001b[43mX\u001b[49m\u001b[38;5;241;43m.\u001b[39;49m\u001b[43miloc\u001b[49m[selected], y\u001b[38;5;241m.\u001b[39miloc[selected]))\n\u001b[0;32m     51\u001b[0m \u001b[38;5;28;01mreturn\u001b[39;00m datasets\n",
      "\u001b[1;31mAttributeError\u001b[0m: 'numpy.ndarray' object has no attribute 'iloc'"
     ]
    }
   ],
   "source": [
    "from random_forest import RandomForest\n",
    "from sklearn.utils.estimator_checks import check_estimator\n",
    "\n",
    "forest = RandomForest(3)\n",
    "check_estimator(forest)\n",
    "forest.fit(train_x.copy(deep=True), train_y.copy(deep=True))"
   ]
  },
  {
   "cell_type": "code",
   "execution_count": 3,
   "metadata": {},
   "outputs": [
    {
     "name": "stdout",
     "output_type": "stream",
     "text": [
      "===\n",
      "Sample 1: Expectation = 80000\n",
      "Sample 1: Prediction = 60000.0\n",
      "===\n",
      "Sample 2: Expectation = 150000\n",
      "Sample 2: Prediction = 200000.0\n",
      "===\n",
      "Sample 3: Expectation = 110000\n",
      "Sample 3: Prediction = 60000.0\n"
     ]
    }
   ],
   "source": [
    "predictions = forest.predict(test_x)\n",
    "\n",
    "for i, res in enumerate(test_y):\n",
    "        print('===')\n",
    "        print(f\"Sample {i + 1}: Expectation = {res}\")\n",
    "        print(f\"Sample {i + 1}: Prediction = {predictions[i]}\")"
   ]
  },
  {
   "cell_type": "code",
   "execution_count": 4,
   "metadata": {},
   "outputs": [
    {
     "name": "stdout",
     "output_type": "stream",
     "text": [
      "===\n",
      "Sample 1: Expectation = 80000\n",
      "Sample 1: Prediction = 103333.33333333333\n",
      "===\n",
      "Sample 2: Expectation = 150000\n",
      "Sample 2: Prediction = 233333.33333333334\n",
      "===\n",
      "Sample 3: Expectation = 110000\n",
      "Sample 3: Prediction = 153333.33333333334\n"
     ]
    }
   ],
   "source": [
    "from sklearn.ensemble import RandomForestRegressor\n",
    "\n",
    "sk_forest = RandomForestRegressor(3)\n",
    "sk_forest.fit(train_x, train_y)\n",
    "predictions = sk_forest.predict(test_x)\n",
    "\n",
    "for i, res in enumerate(test_y):\n",
    "        print('===')\n",
    "        print(f\"Sample {i + 1}: Expectation = {res}\")\n",
    "        print(f\"Sample {i + 1}: Prediction = {predictions[i]}\")"
   ]
  },
  {
   "cell_type": "code",
   "execution_count": null,
   "metadata": {},
   "outputs": [],
   "source": []
  },
  {
   "cell_type": "code",
   "execution_count": null,
   "metadata": {},
   "outputs": [],
   "source": []
  }
 ],
 "metadata": {
  "kernelspec": {
   "display_name": "Python 3",
   "language": "python",
   "name": "python3"
  },
  "language_info": {
   "codemirror_mode": {
    "name": "ipython",
    "version": 3
   },
   "file_extension": ".py",
   "mimetype": "text/x-python",
   "name": "python",
   "nbconvert_exporter": "python",
   "pygments_lexer": "ipython3",
   "version": "3.12.6"
  }
 },
 "nbformat": 4,
 "nbformat_minor": 2
}
